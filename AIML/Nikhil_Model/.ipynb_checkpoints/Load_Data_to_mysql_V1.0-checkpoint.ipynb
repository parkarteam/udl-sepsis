{
 "cells": [
  {
   "cell_type": "code",
   "execution_count": 13,
   "metadata": {},
   "outputs": [],
   "source": [
    "from pyspark.sql import SparkSession\n",
    "from pyspark.sql import SQLContext"
   ]
  },
  {
   "cell_type": "code",
   "execution_count": 14,
   "metadata": {},
   "outputs": [
    {
     "name": "stdout",
     "output_type": "stream",
     "text": [
      "\r\n"
     ]
    }
   ],
   "source": [
    "!echo $JAVA_HOME"
   ]
  },
  {
   "cell_type": "code",
   "execution_count": 15,
   "metadata": {},
   "outputs": [
    {
     "name": "stdout",
     "output_type": "stream",
     "text": [
      "3.6.3\n",
      "0.19.2\n",
      "1.17.0\n"
     ]
    }
   ],
   "source": [
    "from platform import python_version\n",
    "\n",
    "print(python_version())\n",
    "\n",
    "import pandas as pd\n",
    "import numpy as np\n",
    "\n",
    "\n",
    "print(pd.__version__)\n",
    "\n",
    "print(np.__version__)\n"
   ]
  },
  {
   "cell_type": "code",
   "execution_count": 16,
   "metadata": {},
   "outputs": [
    {
     "name": "stdout",
     "output_type": "stream",
     "text": [
      "Total Records = 1168686\n",
      "+-------+---+-----+-----+---+-----+---+----+-----+----------+----+----+----+-----+----+---+---+------------+-------+--------+----------+----------------+-------+-------+---------+---------+---------+---------------+---------+----+----+---+---+----------+---------+-----+------+-----+-----+-----------+------+-----------+\n",
      "|    PID| HR|O2Sat| Temp|SBP|  MAP|DBP|Resp|EtCO2|BaseExcess|HCO3|FiO2|  pH|PaCO2|SaO2|AST|BUN|Alkalinephos|Calcium|Chloride|Creatinine|Bilirubin_direct|Glucose|Lactate|Magnesium|Phosphate|Potassium|Bilirubin_total|TroponinI| Hct| Hgb|PTT|WBC|Fibrinogen|Platelets|  Age|Gender|Unit1|Unit2|HospAdmTime|ICULOS|SepsisLabel|\n",
      "+-------+---+-----+-----+---+-----+---+----+-----+----------+----+----+----+-----+----+---+---+------------+-------+--------+----------+----------------+-------+-------+---------+---------+---------+---------------+---------+----+----+---+---+----------+---------+-----+------+-----+-----+-----------+------+-----------+\n",
      "|p000001|NaN|  NaN|  NaN|NaN|  NaN|NaN| NaN|  NaN|       NaN| NaN| NaN| NaN|  NaN| NaN|NaN|NaN|         NaN|    NaN|     NaN|       NaN|             NaN|    NaN|    NaN|      NaN|      NaN|      NaN|            NaN|      NaN| NaN| NaN|NaN|NaN|       NaN|      NaN|83.14|     0|  NaN|  NaN|      -0.03|     1|          0|\n",
      "|p000001| 97|   95|  NaN| 98|75.33|NaN|  19|  NaN|       NaN| NaN| NaN| NaN|  NaN| NaN|NaN|NaN|         NaN|    NaN|     NaN|       NaN|             NaN|    NaN|    NaN|      NaN|      NaN|      NaN|            NaN|      NaN| NaN| NaN|NaN|NaN|       NaN|      NaN|83.14|     0|  NaN|  NaN|      -0.03|     2|          0|\n",
      "|p000001| 89|   99|  NaN|122|   86|NaN|  22|  NaN|       NaN| NaN| NaN| NaN|  NaN| NaN|NaN|NaN|         NaN|    NaN|     NaN|       NaN|             NaN|    NaN|    NaN|      NaN|      NaN|      NaN|            NaN|      NaN| NaN| NaN|NaN|NaN|       NaN|      NaN|83.14|     0|  NaN|  NaN|      -0.03|     3|          0|\n",
      "|p000001| 90|   95|  NaN|NaN|  NaN|NaN|  30|  NaN|        24| NaN| NaN|7.36|  100| NaN|NaN|NaN|         NaN|    NaN|     NaN|       NaN|             NaN|    NaN|    NaN|      NaN|      NaN|      NaN|            NaN|      NaN| NaN| NaN|NaN|NaN|       NaN|      NaN|83.14|     0|  NaN|  NaN|      -0.03|     4|          0|\n",
      "|p000001|103| 88.5|  NaN|122|91.33|NaN|24.5|  NaN|       NaN| NaN|0.28| NaN|  NaN| NaN|NaN|NaN|         NaN|    NaN|     NaN|       NaN|             NaN|    NaN|    NaN|      NaN|      NaN|      NaN|            NaN|      NaN| NaN| NaN|NaN|NaN|       NaN|      NaN|83.14|     0|  NaN|  NaN|      -0.03|     5|          0|\n",
      "|p000001|110|   91|  NaN|NaN|  NaN|NaN|  22|  NaN|       NaN| NaN| NaN| NaN|  NaN| NaN|NaN|NaN|         NaN|    NaN|     NaN|       NaN|             NaN|    NaN|    NaN|      NaN|      NaN|      NaN|            NaN|      NaN| NaN| NaN|NaN|NaN|       NaN|      NaN|83.14|     0|  NaN|  NaN|      -0.03|     6|          0|\n",
      "|p000001|108|   92|36.11|123|   77|NaN|  29|  NaN|       NaN| NaN| NaN| NaN|  NaN| NaN|NaN|NaN|         NaN|    NaN|     NaN|       NaN|             NaN|    NaN|    NaN|      NaN|      NaN|      NaN|            NaN|      NaN| NaN| NaN|NaN|NaN|       NaN|      NaN|83.14|     0|  NaN|  NaN|      -0.03|     7|          0|\n",
      "|p000001|106| 90.5|  NaN| 93|76.33|NaN|  29|  NaN|       NaN| NaN| NaN| NaN|  NaN| NaN|NaN|NaN|         NaN|    NaN|     NaN|       NaN|             NaN|    NaN|    NaN|      NaN|      NaN|      NaN|            NaN|      NaN| NaN| NaN|NaN|NaN|       NaN|      NaN|83.14|     0|  NaN|  NaN|      -0.03|     8|          0|\n",
      "|p000001|104|   95|  NaN|133|88.33|NaN|  26|  NaN|       NaN| NaN| NaN| NaN|  NaN| NaN|NaN|NaN|         NaN|    NaN|     NaN|       NaN|             NaN|    NaN|    NaN|      NaN|      NaN|      NaN|            NaN|      NaN| NaN| NaN|NaN|NaN|       NaN|      NaN|83.14|     0|  NaN|  NaN|      -0.03|     9|          0|\n",
      "|p000001|102|   91|  NaN|134|87.33|NaN|  30|  NaN|       NaN| NaN| NaN| NaN|  NaN| NaN|NaN|NaN|         NaN|    NaN|     NaN|       NaN|             NaN|    NaN|    NaN|      NaN|      NaN|      NaN|            NaN|      NaN| NaN| NaN|NaN|NaN|       NaN|      NaN|83.14|     0|  NaN|  NaN|      -0.03|    10|          0|\n",
      "|p000001|104|   92|37.17|138|86.67|NaN|  19|  NaN|        23| NaN| NaN| 7.4|   86|  88|NaN|NaN|         NaN|    NaN|     NaN|       NaN|             NaN|    NaN|    NaN|      NaN|      NaN|      NaN|            NaN|      NaN| NaN| NaN|NaN|NaN|       NaN|      NaN|83.14|     0|  NaN|  NaN|      -0.03|    11|          0|\n",
      "|p000001|NaN|  NaN|  NaN|NaN|  NaN|NaN| NaN|  NaN|       NaN| NaN| NaN| NaN|  NaN| NaN|NaN|NaN|         NaN|    NaN|     NaN|       NaN|             NaN|    NaN|    NaN|      NaN|      NaN|      NaN|            NaN|      NaN| NaN| NaN|NaN|NaN|       NaN|      NaN|83.14|     0|  NaN|  NaN|      -0.03|    12|          0|\n",
      "|p000001|102|   93|  NaN|129|   77|NaN|  24|  NaN|       NaN| NaN| NaN| NaN|  NaN| NaN|NaN|NaN|         NaN|    NaN|     NaN|       NaN|             NaN|    NaN|    NaN|      NaN|      NaN|      NaN|            NaN|      NaN| NaN| NaN|NaN|NaN|       NaN|      NaN|83.14|     0|  NaN|  NaN|      -0.03|    13|          0|\n",
      "|p000001|108|   90|  NaN|122|96.67|NaN|  27|  NaN|       NaN| NaN| NaN| NaN|  NaN| NaN|NaN|NaN|         NaN|    NaN|     NaN|       NaN|             NaN|    NaN|    NaN|      NaN|      NaN|      NaN|            NaN|      NaN| NaN| NaN|NaN|NaN|       NaN|      NaN|83.14|     0|  NaN|  NaN|      -0.03|    14|          0|\n",
      "|p000001|106|   90|  NaN|NaN|  NaN|NaN|  25|  NaN|       NaN| NaN| NaN| NaN|  NaN| NaN|NaN|NaN|         NaN|    NaN|     NaN|       NaN|             NaN|    NaN|    NaN|      NaN|      NaN|      NaN|            NaN|      NaN| NaN| NaN|NaN|NaN|       NaN|      NaN|83.14|     0|  NaN|  NaN|      -0.03|    15|          0|\n",
      "|p000001|109|   91|36.56|132|96.67|NaN|  24|  NaN|       NaN| NaN| NaN| NaN|  NaN| NaN|NaN|NaN|         NaN|    NaN|     NaN|       NaN|             NaN|    NaN|    NaN|      NaN|      NaN|      NaN|            NaN|      NaN| NaN| NaN|NaN|NaN|       NaN|      NaN|83.14|     0|  NaN|  NaN|      -0.03|    16|          0|\n",
      "|p000001|103|   90|  NaN|NaN|  NaN|NaN|  30|  NaN|        21|  45| NaN|7.37|   90|  91| 16| 14|          98|    9.3|      85|       0.7|             NaN|    193|    NaN|        2|      3.3|      3.8|            0.3|      NaN|37.2|12.5|NaN|5.7|       NaN|      317|83.14|     0|  NaN|  NaN|      -0.03|    17|          0|\n",
      "|p000001|104|   92|  NaN|132|81.33|NaN|  28|  NaN|       NaN| NaN| NaN| NaN|  NaN| NaN|NaN|NaN|         NaN|    NaN|     NaN|       NaN|             NaN|    NaN|    NaN|      NaN|      NaN|      NaN|            NaN|      NaN| NaN| NaN|NaN|NaN|       NaN|      NaN|83.14|     0|  NaN|  NaN|      -0.03|    18|          0|\n",
      "|p000001|NaN|  NaN|  NaN|NaN|  NaN|NaN| NaN|  NaN|       NaN| NaN| NaN| NaN|  NaN| NaN|NaN|NaN|         NaN|    NaN|     NaN|       NaN|             NaN|    NaN|    NaN|      NaN|      NaN|      NaN|            NaN|      NaN| NaN| NaN|NaN|NaN|       NaN|      NaN|83.14|     0|  NaN|  NaN|      -0.03|    19|          0|\n",
      "|p000001|109|   91|37.11|147|   91|NaN|  22|  NaN|       NaN| NaN| NaN| NaN|  NaN| NaN|NaN|NaN|         NaN|    NaN|     NaN|       NaN|             NaN|    NaN|    NaN|      NaN|      NaN|      NaN|            NaN|      NaN| NaN| NaN|NaN|NaN|       NaN|      NaN|83.14|     0|  NaN|  NaN|      -0.03|    20|          0|\n",
      "+-------+---+-----+-----+---+-----+---+----+-----+----------+----+----+----+-----+----+---+---+------------+-------+--------+----------+----------------+-------+-------+---------+---------+---------+---------------+---------+----+----+---+---+----------+---------+-----+------+-----+-----+-----------+------+-----------+\n",
      "only showing top 20 rows\n",
      "\n"
     ]
    }
   ],
   "source": [
    "if __name__ == '__main__':\n",
    "    scSpark = SparkSession \\\n",
    "        .builder \\\n",
    "        .appName(\"reading csv\") \\\n",
    "        .getOrCreate()\n",
    "    \n",
    "data_file = '/opt/app-root/src/data/train.psv'\n",
    "sdfData = scSpark.read.csv(data_file, header=True, sep=\"|\").cache()\n",
    "print('Total Records = {}'.format(sdfData.count()))\n",
    "sdfData.show()"
   ]
  },
  {
   "cell_type": "code",
   "execution_count": 17,
   "metadata": {},
   "outputs": [
    {
     "name": "stdout",
     "output_type": "stream",
     "text": [
      "+--------+\n",
      "|count(1)|\n",
      "+--------+\n",
      "| 1168686|\n",
      "+--------+\n",
      "\n"
     ]
    }
   ],
   "source": [
    "sdfData.registerTempTable(\"train\")\n",
    "output =  scSpark.sql('SELECT count(*) from train')\n",
    "output.show()"
   ]
  },
  {
   "cell_type": "code",
   "execution_count": 28,
   "metadata": {},
   "outputs": [
    {
     "name": "stdout",
     "output_type": "stream",
     "text": [
      "+-------+---+-----+-----+---+-----+---+----+-----+----------+----+----+----+-----+----+---+---+------------+-------+--------+----------+----------------+-------+-------+---------+---------+---------+---------------+---------+----+----+---+---+----------+---------+-----+------+-----+-----+-----------+------+-----------+\n",
      "|    PID| HR|O2Sat| Temp|SBP|  MAP|DBP|Resp|EtCO2|BaseExcess|HCO3|FiO2|  pH|PaCO2|SaO2|AST|BUN|Alkalinephos|Calcium|Chloride|Creatinine|Bilirubin_direct|Glucose|Lactate|Magnesium|Phosphate|Potassium|Bilirubin_total|TroponinI| Hct| Hgb|PTT|WBC|Fibrinogen|Platelets|  Age|Gender|Unit1|Unit2|HospAdmTime|ICULOS|SepsisLabel|\n",
      "+-------+---+-----+-----+---+-----+---+----+-----+----------+----+----+----+-----+----+---+---+------------+-------+--------+----------+----------------+-------+-------+---------+---------+---------+---------------+---------+----+----+---+---+----------+---------+-----+------+-----+-----+-----------+------+-----------+\n",
      "|p000001|NaN|  NaN|  NaN|NaN|  NaN|NaN| NaN|  NaN|       NaN| NaN| NaN| NaN|  NaN| NaN|NaN|NaN|         NaN|    NaN|     NaN|       NaN|             NaN|    NaN|    NaN|      NaN|      NaN|      NaN|            NaN|      NaN| NaN| NaN|NaN|NaN|       NaN|      NaN|83.14|     0|  NaN|  NaN|      -0.03|     1|          0|\n",
      "|p000001| 97|   95|  NaN| 98|75.33|NaN|  19|  NaN|       NaN| NaN| NaN| NaN|  NaN| NaN|NaN|NaN|         NaN|    NaN|     NaN|       NaN|             NaN|    NaN|    NaN|      NaN|      NaN|      NaN|            NaN|      NaN| NaN| NaN|NaN|NaN|       NaN|      NaN|83.14|     0|  NaN|  NaN|      -0.03|     2|          0|\n",
      "|p000001| 89|   99|  NaN|122|   86|NaN|  22|  NaN|       NaN| NaN| NaN| NaN|  NaN| NaN|NaN|NaN|         NaN|    NaN|     NaN|       NaN|             NaN|    NaN|    NaN|      NaN|      NaN|      NaN|            NaN|      NaN| NaN| NaN|NaN|NaN|       NaN|      NaN|83.14|     0|  NaN|  NaN|      -0.03|     3|          0|\n",
      "|p000001| 90|   95|  NaN|NaN|  NaN|NaN|  30|  NaN|        24| NaN| NaN|7.36|  100| NaN|NaN|NaN|         NaN|    NaN|     NaN|       NaN|             NaN|    NaN|    NaN|      NaN|      NaN|      NaN|            NaN|      NaN| NaN| NaN|NaN|NaN|       NaN|      NaN|83.14|     0|  NaN|  NaN|      -0.03|     4|          0|\n",
      "|p000001|103| 88.5|  NaN|122|91.33|NaN|24.5|  NaN|       NaN| NaN|0.28| NaN|  NaN| NaN|NaN|NaN|         NaN|    NaN|     NaN|       NaN|             NaN|    NaN|    NaN|      NaN|      NaN|      NaN|            NaN|      NaN| NaN| NaN|NaN|NaN|       NaN|      NaN|83.14|     0|  NaN|  NaN|      -0.03|     5|          0|\n",
      "|p000001|110|   91|  NaN|NaN|  NaN|NaN|  22|  NaN|       NaN| NaN| NaN| NaN|  NaN| NaN|NaN|NaN|         NaN|    NaN|     NaN|       NaN|             NaN|    NaN|    NaN|      NaN|      NaN|      NaN|            NaN|      NaN| NaN| NaN|NaN|NaN|       NaN|      NaN|83.14|     0|  NaN|  NaN|      -0.03|     6|          0|\n",
      "|p000001|108|   92|36.11|123|   77|NaN|  29|  NaN|       NaN| NaN| NaN| NaN|  NaN| NaN|NaN|NaN|         NaN|    NaN|     NaN|       NaN|             NaN|    NaN|    NaN|      NaN|      NaN|      NaN|            NaN|      NaN| NaN| NaN|NaN|NaN|       NaN|      NaN|83.14|     0|  NaN|  NaN|      -0.03|     7|          0|\n",
      "|p000001|106| 90.5|  NaN| 93|76.33|NaN|  29|  NaN|       NaN| NaN| NaN| NaN|  NaN| NaN|NaN|NaN|         NaN|    NaN|     NaN|       NaN|             NaN|    NaN|    NaN|      NaN|      NaN|      NaN|            NaN|      NaN| NaN| NaN|NaN|NaN|       NaN|      NaN|83.14|     0|  NaN|  NaN|      -0.03|     8|          0|\n",
      "|p000001|104|   95|  NaN|133|88.33|NaN|  26|  NaN|       NaN| NaN| NaN| NaN|  NaN| NaN|NaN|NaN|         NaN|    NaN|     NaN|       NaN|             NaN|    NaN|    NaN|      NaN|      NaN|      NaN|            NaN|      NaN| NaN| NaN|NaN|NaN|       NaN|      NaN|83.14|     0|  NaN|  NaN|      -0.03|     9|          0|\n",
      "|p000001|102|   91|  NaN|134|87.33|NaN|  30|  NaN|       NaN| NaN| NaN| NaN|  NaN| NaN|NaN|NaN|         NaN|    NaN|     NaN|       NaN|             NaN|    NaN|    NaN|      NaN|      NaN|      NaN|            NaN|      NaN| NaN| NaN|NaN|NaN|       NaN|      NaN|83.14|     0|  NaN|  NaN|      -0.03|    10|          0|\n",
      "|p000001|104|   92|37.17|138|86.67|NaN|  19|  NaN|        23| NaN| NaN| 7.4|   86|  88|NaN|NaN|         NaN|    NaN|     NaN|       NaN|             NaN|    NaN|    NaN|      NaN|      NaN|      NaN|            NaN|      NaN| NaN| NaN|NaN|NaN|       NaN|      NaN|83.14|     0|  NaN|  NaN|      -0.03|    11|          0|\n",
      "|p000001|NaN|  NaN|  NaN|NaN|  NaN|NaN| NaN|  NaN|       NaN| NaN| NaN| NaN|  NaN| NaN|NaN|NaN|         NaN|    NaN|     NaN|       NaN|             NaN|    NaN|    NaN|      NaN|      NaN|      NaN|            NaN|      NaN| NaN| NaN|NaN|NaN|       NaN|      NaN|83.14|     0|  NaN|  NaN|      -0.03|    12|          0|\n",
      "|p000001|102|   93|  NaN|129|   77|NaN|  24|  NaN|       NaN| NaN| NaN| NaN|  NaN| NaN|NaN|NaN|         NaN|    NaN|     NaN|       NaN|             NaN|    NaN|    NaN|      NaN|      NaN|      NaN|            NaN|      NaN| NaN| NaN|NaN|NaN|       NaN|      NaN|83.14|     0|  NaN|  NaN|      -0.03|    13|          0|\n",
      "|p000001|108|   90|  NaN|122|96.67|NaN|  27|  NaN|       NaN| NaN| NaN| NaN|  NaN| NaN|NaN|NaN|         NaN|    NaN|     NaN|       NaN|             NaN|    NaN|    NaN|      NaN|      NaN|      NaN|            NaN|      NaN| NaN| NaN|NaN|NaN|       NaN|      NaN|83.14|     0|  NaN|  NaN|      -0.03|    14|          0|\n",
      "|p000001|106|   90|  NaN|NaN|  NaN|NaN|  25|  NaN|       NaN| NaN| NaN| NaN|  NaN| NaN|NaN|NaN|         NaN|    NaN|     NaN|       NaN|             NaN|    NaN|    NaN|      NaN|      NaN|      NaN|            NaN|      NaN| NaN| NaN|NaN|NaN|       NaN|      NaN|83.14|     0|  NaN|  NaN|      -0.03|    15|          0|\n",
      "|p000001|109|   91|36.56|132|96.67|NaN|  24|  NaN|       NaN| NaN| NaN| NaN|  NaN| NaN|NaN|NaN|         NaN|    NaN|     NaN|       NaN|             NaN|    NaN|    NaN|      NaN|      NaN|      NaN|            NaN|      NaN| NaN| NaN|NaN|NaN|       NaN|      NaN|83.14|     0|  NaN|  NaN|      -0.03|    16|          0|\n",
      "|p000001|103|   90|  NaN|NaN|  NaN|NaN|  30|  NaN|        21|  45| NaN|7.37|   90|  91| 16| 14|          98|    9.3|      85|       0.7|             NaN|    193|    NaN|        2|      3.3|      3.8|            0.3|      NaN|37.2|12.5|NaN|5.7|       NaN|      317|83.14|     0|  NaN|  NaN|      -0.03|    17|          0|\n",
      "|p000001|104|   92|  NaN|132|81.33|NaN|  28|  NaN|       NaN| NaN| NaN| NaN|  NaN| NaN|NaN|NaN|         NaN|    NaN|     NaN|       NaN|             NaN|    NaN|    NaN|      NaN|      NaN|      NaN|            NaN|      NaN| NaN| NaN|NaN|NaN|       NaN|      NaN|83.14|     0|  NaN|  NaN|      -0.03|    18|          0|\n",
      "|p000001|NaN|  NaN|  NaN|NaN|  NaN|NaN| NaN|  NaN|       NaN| NaN| NaN| NaN|  NaN| NaN|NaN|NaN|         NaN|    NaN|     NaN|       NaN|             NaN|    NaN|    NaN|      NaN|      NaN|      NaN|            NaN|      NaN| NaN| NaN|NaN|NaN|       NaN|      NaN|83.14|     0|  NaN|  NaN|      -0.03|    19|          0|\n",
      "|p000001|109|   91|37.11|147|   91|NaN|  22|  NaN|       NaN| NaN| NaN| NaN|  NaN| NaN|NaN|NaN|         NaN|    NaN|     NaN|       NaN|             NaN|    NaN|    NaN|      NaN|      NaN|      NaN|            NaN|      NaN| NaN| NaN|NaN|NaN|       NaN|      NaN|83.14|     0|  NaN|  NaN|      -0.03|    20|          0|\n",
      "+-------+---+-----+-----+---+-----+---+----+-----+----------+----+----+----+-----+----+---+---+------------+-------+--------+----------+----------------+-------+-------+---------+---------+---------+---------------+---------+----+----+---+---+----------+---------+-----+------+-----+-----+-----------+------+-----------+\n",
      "only showing top 20 rows\n",
      "\n"
     ]
    },
    {
     "ename": "Py4JJavaError",
     "evalue": "An error occurred while calling o338.save.\n: com.mysql.cj.jdbc.exceptions.CommunicationsException: Communications link failure\n\nThe last packet sent successfully to the server was 0 milliseconds ago. The driver has not received any packets from the server.\n\tat com.mysql.cj.jdbc.exceptions.SQLError.createCommunicationsException(SQLError.java:174)\n\tat com.mysql.cj.jdbc.exceptions.SQLExceptionsMapping.translateException(SQLExceptionsMapping.java:64)\n\tat com.mysql.cj.jdbc.ConnectionImpl.createNewIO(ConnectionImpl.java:836)\n\tat com.mysql.cj.jdbc.ConnectionImpl.<init>(ConnectionImpl.java:456)\n\tat com.mysql.cj.jdbc.ConnectionImpl.getInstance(ConnectionImpl.java:246)\n\tat com.mysql.cj.jdbc.NonRegisteringDriver.connect(NonRegisteringDriver.java:197)\n\tat org.apache.spark.sql.execution.datasources.jdbc.DriverWrapper.connect(DriverWrapper.scala:45)\n\tat org.apache.spark.sql.execution.datasources.jdbc.JdbcUtils$$anonfun$createConnectionFactory$1.apply(JdbcUtils.scala:61)\n\tat org.apache.spark.sql.execution.datasources.jdbc.JdbcUtils$$anonfun$createConnectionFactory$1.apply(JdbcUtils.scala:52)\n\tat org.apache.spark.sql.execution.datasources.jdbc.JdbcRelationProvider.createRelation(JdbcRelationProvider.scala:63)\n\tat org.apache.spark.sql.execution.datasources.DataSource.write(DataSource.scala:469)\n\tat org.apache.spark.sql.execution.datasources.SaveIntoDataSourceCommand.run(SaveIntoDataSourceCommand.scala:50)\n\tat org.apache.spark.sql.execution.command.ExecutedCommandExec.sideEffectResult$lzycompute(commands.scala:58)\n\tat org.apache.spark.sql.execution.command.ExecutedCommandExec.sideEffectResult(commands.scala:56)\n\tat org.apache.spark.sql.execution.command.ExecutedCommandExec.doExecute(commands.scala:74)\n\tat org.apache.spark.sql.execution.SparkPlan$$anonfun$execute$1.apply(SparkPlan.scala:117)\n\tat org.apache.spark.sql.execution.SparkPlan$$anonfun$execute$1.apply(SparkPlan.scala:117)\n\tat org.apache.spark.sql.execution.SparkPlan$$anonfun$executeQuery$1.apply(SparkPlan.scala:138)\n\tat org.apache.spark.rdd.RDDOperationScope$.withScope(RDDOperationScope.scala:151)\n\tat org.apache.spark.sql.execution.SparkPlan.executeQuery(SparkPlan.scala:135)\n\tat org.apache.spark.sql.execution.SparkPlan.execute(SparkPlan.scala:116)\n\tat org.apache.spark.sql.execution.QueryExecution.toRdd$lzycompute(QueryExecution.scala:92)\n\tat org.apache.spark.sql.execution.QueryExecution.toRdd(QueryExecution.scala:92)\n\tat org.apache.spark.sql.DataFrameWriter.runCommand(DataFrameWriter.scala:609)\n\tat org.apache.spark.sql.DataFrameWriter.save(DataFrameWriter.scala:233)\n\tat sun.reflect.NativeMethodAccessorImpl.invoke0(Native Method)\n\tat sun.reflect.NativeMethodAccessorImpl.invoke(NativeMethodAccessorImpl.java:62)\n\tat sun.reflect.DelegatingMethodAccessorImpl.invoke(DelegatingMethodAccessorImpl.java:43)\n\tat java.lang.reflect.Method.invoke(Method.java:498)\n\tat py4j.reflection.MethodInvoker.invoke(MethodInvoker.java:244)\n\tat py4j.reflection.ReflectionEngine.invoke(ReflectionEngine.java:357)\n\tat py4j.Gateway.invoke(Gateway.java:280)\n\tat py4j.commands.AbstractCommand.invokeMethod(AbstractCommand.java:132)\n\tat py4j.commands.CallCommand.execute(CallCommand.java:79)\n\tat py4j.GatewayConnection.run(GatewayConnection.java:214)\n\tat java.lang.Thread.run(Thread.java:748)\nCaused by: com.mysql.cj.exceptions.CJCommunicationsException: Communications link failure\n\nThe last packet sent successfully to the server was 0 milliseconds ago. The driver has not received any packets from the server.\n\tat sun.reflect.NativeConstructorAccessorImpl.newInstance0(Native Method)\n\tat sun.reflect.NativeConstructorAccessorImpl.newInstance(NativeConstructorAccessorImpl.java:62)\n\tat sun.reflect.DelegatingConstructorAccessorImpl.newInstance(DelegatingConstructorAccessorImpl.java:45)\n\tat java.lang.reflect.Constructor.newInstance(Constructor.java:423)\n\tat com.mysql.cj.exceptions.ExceptionFactory.createException(ExceptionFactory.java:61)\n\tat com.mysql.cj.exceptions.ExceptionFactory.createException(ExceptionFactory.java:105)\n\tat com.mysql.cj.exceptions.ExceptionFactory.createException(ExceptionFactory.java:151)\n\tat com.mysql.cj.exceptions.ExceptionFactory.createCommunicationsException(ExceptionFactory.java:167)\n\tat com.mysql.cj.protocol.a.NativeSocketConnection.connect(NativeSocketConnection.java:91)\n\tat com.mysql.cj.NativeSession.connect(NativeSession.java:144)\n\tat com.mysql.cj.jdbc.ConnectionImpl.connectOneTryOnly(ConnectionImpl.java:956)\n\tat com.mysql.cj.jdbc.ConnectionImpl.createNewIO(ConnectionImpl.java:826)\n\t... 33 more\nCaused by: java.net.NoRouteToHostException: No route to host (Host unreachable)\n\tat java.net.PlainSocketImpl.socketConnect(Native Method)\n\tat java.net.AbstractPlainSocketImpl.doConnect(AbstractPlainSocketImpl.java:350)\n\tat java.net.AbstractPlainSocketImpl.connectToAddress(AbstractPlainSocketImpl.java:206)\n\tat java.net.AbstractPlainSocketImpl.connect(AbstractPlainSocketImpl.java:188)\n\tat java.net.SocksSocketImpl.connect(SocksSocketImpl.java:392)\n\tat java.net.Socket.connect(Socket.java:589)\n\tat com.mysql.cj.protocol.StandardSocketFactory.connect(StandardSocketFactory.java:155)\n\tat com.mysql.cj.protocol.a.NativeSocketConnection.connect(NativeSocketConnection.java:65)\n\t... 36 more\n",
     "output_type": "error",
     "traceback": [
      "\u001b[0;31m---------------------------------------------------------------------------\u001b[0m",
      "\u001b[0;31mPy4JJavaError\u001b[0m                             Traceback (most recent call last)",
      "\u001b[0;32m<ipython-input-28-c0fffe70bd00>\u001b[0m in \u001b[0;36m<module>\u001b[0;34m\u001b[0m\n\u001b[1;32m     12\u001b[0m     \u001b[0mdbtable\u001b[0m\u001b[0;34m=\u001b[0m\u001b[0;34m'train'\u001b[0m\u001b[0;34m,\u001b[0m\u001b[0;34m\u001b[0m\u001b[0m\n\u001b[1;32m     13\u001b[0m     \u001b[0muser\u001b[0m\u001b[0;34m=\u001b[0m\u001b[0;34m'root'\u001b[0m\u001b[0;34m,\u001b[0m\u001b[0;34m\u001b[0m\u001b[0m\n\u001b[0;32m---> 14\u001b[0;31m     password='Sepsis_Parkar_2020').mode('append').save()\n\u001b[0m",
      "\u001b[0;32m/opt/app-root/lib/python3.6/site-packages/pyspark/sql/readwriter.py\u001b[0m in \u001b[0;36msave\u001b[0;34m(self, path, format, mode, partitionBy, **options)\u001b[0m\n\u001b[1;32m    591\u001b[0m             \u001b[0mself\u001b[0m\u001b[0;34m.\u001b[0m\u001b[0mformat\u001b[0m\u001b[0;34m(\u001b[0m\u001b[0mformat\u001b[0m\u001b[0;34m)\u001b[0m\u001b[0;34m\u001b[0m\u001b[0m\n\u001b[1;32m    592\u001b[0m         \u001b[0;32mif\u001b[0m \u001b[0mpath\u001b[0m \u001b[0;32mis\u001b[0m \u001b[0;32mNone\u001b[0m\u001b[0;34m:\u001b[0m\u001b[0;34m\u001b[0m\u001b[0m\n\u001b[0;32m--> 593\u001b[0;31m             \u001b[0mself\u001b[0m\u001b[0;34m.\u001b[0m\u001b[0m_jwrite\u001b[0m\u001b[0;34m.\u001b[0m\u001b[0msave\u001b[0m\u001b[0;34m(\u001b[0m\u001b[0;34m)\u001b[0m\u001b[0;34m\u001b[0m\u001b[0m\n\u001b[0m\u001b[1;32m    594\u001b[0m         \u001b[0;32melse\u001b[0m\u001b[0;34m:\u001b[0m\u001b[0;34m\u001b[0m\u001b[0m\n\u001b[1;32m    595\u001b[0m             \u001b[0mself\u001b[0m\u001b[0;34m.\u001b[0m\u001b[0m_jwrite\u001b[0m\u001b[0;34m.\u001b[0m\u001b[0msave\u001b[0m\u001b[0;34m(\u001b[0m\u001b[0mpath\u001b[0m\u001b[0;34m)\u001b[0m\u001b[0;34m\u001b[0m\u001b[0m\n",
      "\u001b[0;32m/opt/app-root/lib/python3.6/site-packages/py4j/java_gateway.py\u001b[0m in \u001b[0;36m__call__\u001b[0;34m(self, *args)\u001b[0m\n\u001b[1;32m   1131\u001b[0m         \u001b[0manswer\u001b[0m \u001b[0;34m=\u001b[0m \u001b[0mself\u001b[0m\u001b[0;34m.\u001b[0m\u001b[0mgateway_client\u001b[0m\u001b[0;34m.\u001b[0m\u001b[0msend_command\u001b[0m\u001b[0;34m(\u001b[0m\u001b[0mcommand\u001b[0m\u001b[0;34m)\u001b[0m\u001b[0;34m\u001b[0m\u001b[0m\n\u001b[1;32m   1132\u001b[0m         return_value = get_return_value(\n\u001b[0;32m-> 1133\u001b[0;31m             answer, self.gateway_client, self.target_id, self.name)\n\u001b[0m\u001b[1;32m   1134\u001b[0m \u001b[0;34m\u001b[0m\u001b[0m\n\u001b[1;32m   1135\u001b[0m         \u001b[0;32mfor\u001b[0m \u001b[0mtemp_arg\u001b[0m \u001b[0;32min\u001b[0m \u001b[0mtemp_args\u001b[0m\u001b[0;34m:\u001b[0m\u001b[0;34m\u001b[0m\u001b[0m\n",
      "\u001b[0;32m/opt/app-root/lib/python3.6/site-packages/pyspark/sql/utils.py\u001b[0m in \u001b[0;36mdeco\u001b[0;34m(*a, **kw)\u001b[0m\n\u001b[1;32m     61\u001b[0m     \u001b[0;32mdef\u001b[0m \u001b[0mdeco\u001b[0m\u001b[0;34m(\u001b[0m\u001b[0;34m*\u001b[0m\u001b[0ma\u001b[0m\u001b[0;34m,\u001b[0m \u001b[0;34m**\u001b[0m\u001b[0mkw\u001b[0m\u001b[0;34m)\u001b[0m\u001b[0;34m:\u001b[0m\u001b[0;34m\u001b[0m\u001b[0m\n\u001b[1;32m     62\u001b[0m         \u001b[0;32mtry\u001b[0m\u001b[0;34m:\u001b[0m\u001b[0;34m\u001b[0m\u001b[0m\n\u001b[0;32m---> 63\u001b[0;31m             \u001b[0;32mreturn\u001b[0m \u001b[0mf\u001b[0m\u001b[0;34m(\u001b[0m\u001b[0;34m*\u001b[0m\u001b[0ma\u001b[0m\u001b[0;34m,\u001b[0m \u001b[0;34m**\u001b[0m\u001b[0mkw\u001b[0m\u001b[0;34m)\u001b[0m\u001b[0;34m\u001b[0m\u001b[0m\n\u001b[0m\u001b[1;32m     64\u001b[0m         \u001b[0;32mexcept\u001b[0m \u001b[0mpy4j\u001b[0m\u001b[0;34m.\u001b[0m\u001b[0mprotocol\u001b[0m\u001b[0;34m.\u001b[0m\u001b[0mPy4JJavaError\u001b[0m \u001b[0;32mas\u001b[0m \u001b[0me\u001b[0m\u001b[0;34m:\u001b[0m\u001b[0;34m\u001b[0m\u001b[0m\n\u001b[1;32m     65\u001b[0m             \u001b[0ms\u001b[0m \u001b[0;34m=\u001b[0m \u001b[0me\u001b[0m\u001b[0;34m.\u001b[0m\u001b[0mjava_exception\u001b[0m\u001b[0;34m.\u001b[0m\u001b[0mtoString\u001b[0m\u001b[0;34m(\u001b[0m\u001b[0;34m)\u001b[0m\u001b[0;34m\u001b[0m\u001b[0m\n",
      "\u001b[0;32m/opt/app-root/lib/python3.6/site-packages/py4j/protocol.py\u001b[0m in \u001b[0;36mget_return_value\u001b[0;34m(answer, gateway_client, target_id, name)\u001b[0m\n\u001b[1;32m    317\u001b[0m                 raise Py4JJavaError(\n\u001b[1;32m    318\u001b[0m                     \u001b[0;34m\"An error occurred while calling {0}{1}{2}.\\n\"\u001b[0m\u001b[0;34m.\u001b[0m\u001b[0;34m\u001b[0m\u001b[0m\n\u001b[0;32m--> 319\u001b[0;31m                     format(target_id, \".\", name), value)\n\u001b[0m\u001b[1;32m    320\u001b[0m             \u001b[0;32melse\u001b[0m\u001b[0;34m:\u001b[0m\u001b[0;34m\u001b[0m\u001b[0m\n\u001b[1;32m    321\u001b[0m                 raise Py4JError(\n",
      "\u001b[0;31mPy4JJavaError\u001b[0m: An error occurred while calling o338.save.\n: com.mysql.cj.jdbc.exceptions.CommunicationsException: Communications link failure\n\nThe last packet sent successfully to the server was 0 milliseconds ago. The driver has not received any packets from the server.\n\tat com.mysql.cj.jdbc.exceptions.SQLError.createCommunicationsException(SQLError.java:174)\n\tat com.mysql.cj.jdbc.exceptions.SQLExceptionsMapping.translateException(SQLExceptionsMapping.java:64)\n\tat com.mysql.cj.jdbc.ConnectionImpl.createNewIO(ConnectionImpl.java:836)\n\tat com.mysql.cj.jdbc.ConnectionImpl.<init>(ConnectionImpl.java:456)\n\tat com.mysql.cj.jdbc.ConnectionImpl.getInstance(ConnectionImpl.java:246)\n\tat com.mysql.cj.jdbc.NonRegisteringDriver.connect(NonRegisteringDriver.java:197)\n\tat org.apache.spark.sql.execution.datasources.jdbc.DriverWrapper.connect(DriverWrapper.scala:45)\n\tat org.apache.spark.sql.execution.datasources.jdbc.JdbcUtils$$anonfun$createConnectionFactory$1.apply(JdbcUtils.scala:61)\n\tat org.apache.spark.sql.execution.datasources.jdbc.JdbcUtils$$anonfun$createConnectionFactory$1.apply(JdbcUtils.scala:52)\n\tat org.apache.spark.sql.execution.datasources.jdbc.JdbcRelationProvider.createRelation(JdbcRelationProvider.scala:63)\n\tat org.apache.spark.sql.execution.datasources.DataSource.write(DataSource.scala:469)\n\tat org.apache.spark.sql.execution.datasources.SaveIntoDataSourceCommand.run(SaveIntoDataSourceCommand.scala:50)\n\tat org.apache.spark.sql.execution.command.ExecutedCommandExec.sideEffectResult$lzycompute(commands.scala:58)\n\tat org.apache.spark.sql.execution.command.ExecutedCommandExec.sideEffectResult(commands.scala:56)\n\tat org.apache.spark.sql.execution.command.ExecutedCommandExec.doExecute(commands.scala:74)\n\tat org.apache.spark.sql.execution.SparkPlan$$anonfun$execute$1.apply(SparkPlan.scala:117)\n\tat org.apache.spark.sql.execution.SparkPlan$$anonfun$execute$1.apply(SparkPlan.scala:117)\n\tat org.apache.spark.sql.execution.SparkPlan$$anonfun$executeQuery$1.apply(SparkPlan.scala:138)\n\tat org.apache.spark.rdd.RDDOperationScope$.withScope(RDDOperationScope.scala:151)\n\tat org.apache.spark.sql.execution.SparkPlan.executeQuery(SparkPlan.scala:135)\n\tat org.apache.spark.sql.execution.SparkPlan.execute(SparkPlan.scala:116)\n\tat org.apache.spark.sql.execution.QueryExecution.toRdd$lzycompute(QueryExecution.scala:92)\n\tat org.apache.spark.sql.execution.QueryExecution.toRdd(QueryExecution.scala:92)\n\tat org.apache.spark.sql.DataFrameWriter.runCommand(DataFrameWriter.scala:609)\n\tat org.apache.spark.sql.DataFrameWriter.save(DataFrameWriter.scala:233)\n\tat sun.reflect.NativeMethodAccessorImpl.invoke0(Native Method)\n\tat sun.reflect.NativeMethodAccessorImpl.invoke(NativeMethodAccessorImpl.java:62)\n\tat sun.reflect.DelegatingMethodAccessorImpl.invoke(DelegatingMethodAccessorImpl.java:43)\n\tat java.lang.reflect.Method.invoke(Method.java:498)\n\tat py4j.reflection.MethodInvoker.invoke(MethodInvoker.java:244)\n\tat py4j.reflection.ReflectionEngine.invoke(ReflectionEngine.java:357)\n\tat py4j.Gateway.invoke(Gateway.java:280)\n\tat py4j.commands.AbstractCommand.invokeMethod(AbstractCommand.java:132)\n\tat py4j.commands.CallCommand.execute(CallCommand.java:79)\n\tat py4j.GatewayConnection.run(GatewayConnection.java:214)\n\tat java.lang.Thread.run(Thread.java:748)\nCaused by: com.mysql.cj.exceptions.CJCommunicationsException: Communications link failure\n\nThe last packet sent successfully to the server was 0 milliseconds ago. The driver has not received any packets from the server.\n\tat sun.reflect.NativeConstructorAccessorImpl.newInstance0(Native Method)\n\tat sun.reflect.NativeConstructorAccessorImpl.newInstance(NativeConstructorAccessorImpl.java:62)\n\tat sun.reflect.DelegatingConstructorAccessorImpl.newInstance(DelegatingConstructorAccessorImpl.java:45)\n\tat java.lang.reflect.Constructor.newInstance(Constructor.java:423)\n\tat com.mysql.cj.exceptions.ExceptionFactory.createException(ExceptionFactory.java:61)\n\tat com.mysql.cj.exceptions.ExceptionFactory.createException(ExceptionFactory.java:105)\n\tat com.mysql.cj.exceptions.ExceptionFactory.createException(ExceptionFactory.java:151)\n\tat com.mysql.cj.exceptions.ExceptionFactory.createCommunicationsException(ExceptionFactory.java:167)\n\tat com.mysql.cj.protocol.a.NativeSocketConnection.connect(NativeSocketConnection.java:91)\n\tat com.mysql.cj.NativeSession.connect(NativeSession.java:144)\n\tat com.mysql.cj.jdbc.ConnectionImpl.connectOneTryOnly(ConnectionImpl.java:956)\n\tat com.mysql.cj.jdbc.ConnectionImpl.createNewIO(ConnectionImpl.java:826)\n\t... 33 more\nCaused by: java.net.NoRouteToHostException: No route to host (Host unreachable)\n\tat java.net.PlainSocketImpl.socketConnect(Native Method)\n\tat java.net.AbstractPlainSocketImpl.doConnect(AbstractPlainSocketImpl.java:350)\n\tat java.net.AbstractPlainSocketImpl.connectToAddress(AbstractPlainSocketImpl.java:206)\n\tat java.net.AbstractPlainSocketImpl.connect(AbstractPlainSocketImpl.java:188)\n\tat java.net.SocksSocketImpl.connect(SocksSocketImpl.java:392)\n\tat java.net.Socket.connect(Socket.java:589)\n\tat com.mysql.cj.protocol.StandardSocketFactory.connect(StandardSocketFactory.java:155)\n\tat com.mysql.cj.protocol.a.NativeSocketConnection.connect(NativeSocketConnection.java:65)\n\t... 36 more\n"
     ]
    }
   ],
   "source": [
    "import os\n",
    "os.environ['PYSPARK_SUBMIT_ARGS'] = '--packages mysql:mysql-connector-java:jar:8.0.21 pyspark-shell'\n",
    "\n",
    "output = scSpark.sql('SELECT * from train')\n",
    "output.show()\n",
    "output.write.format('jdbc').options(\n",
    "    url='jdbc:mysql://10.128.1.138/sepsis',\n",
    "    driver='com.mysql.jdbc.Driver',\n",
    "    #driver='com.mysql.cj.jdbc.Driver',\n",
    "    #driver='mysql-connector-java.Driver',\n",
    "    #driver='mysql-connector-python',\n",
    "    dbtable='train',\n",
    "    user='root',\n",
    "    password='Sepsis_Parkar_2020').mode('append').save()"
   ]
  },
  {
   "cell_type": "code",
   "execution_count": 19,
   "metadata": {},
   "outputs": [
    {
     "name": "stdout",
     "output_type": "stream",
     "text": [
      "Total Records = 190615\n",
      "+-------+---+-----+-----+---+-----+---+----+-----+----------+----+----+----+-----+----+---+---+------------+-------+--------+----------+----------------+-------+-------+---------+---------+---------+---------------+---------+----+----+---+---+----------+---------+-----+------+-----+-----+-----------+------+-----------+\n",
      "|    PID| HR|O2Sat| Temp|SBP|  MAP|DBP|Resp|EtCO2|BaseExcess|HCO3|FiO2|  pH|PaCO2|SaO2|AST|BUN|Alkalinephos|Calcium|Chloride|Creatinine|Bilirubin_direct|Glucose|Lactate|Magnesium|Phosphate|Potassium|Bilirubin_total|TroponinI| Hct| Hgb|PTT|WBC|Fibrinogen|Platelets|  Age|Gender|Unit1|Unit2|HospAdmTime|ICULOS|SepsisLabel|\n",
      "+-------+---+-----+-----+---+-----+---+----+-----+----------+----+----+----+-----+----+---+---+------------+-------+--------+----------+----------------+-------+-------+---------+---------+---------+---------------+---------+----+----+---+---+----------+---------+-----+------+-----+-----+-----------+------+-----------+\n",
      "|p000001|NaN|  NaN|  NaN|NaN|  NaN|NaN| NaN|  NaN|       NaN| NaN| NaN| NaN|  NaN| NaN|NaN|NaN|         NaN|    NaN|     NaN|       NaN|             NaN|    NaN|    NaN|      NaN|      NaN|      NaN|            NaN|      NaN| NaN| NaN|NaN|NaN|       NaN|      NaN|83.14|     0|  NaN|  NaN|      -0.03|     1|          0|\n",
      "|p000001| 97|   95|  NaN| 98|75.33|NaN|  19|  NaN|       NaN| NaN| NaN| NaN|  NaN| NaN|NaN|NaN|         NaN|    NaN|     NaN|       NaN|             NaN|    NaN|    NaN|      NaN|      NaN|      NaN|            NaN|      NaN| NaN| NaN|NaN|NaN|       NaN|      NaN|83.14|     0|  NaN|  NaN|      -0.03|     2|          0|\n",
      "|p000001| 89|   99|  NaN|122|   86|NaN|  22|  NaN|       NaN| NaN| NaN| NaN|  NaN| NaN|NaN|NaN|         NaN|    NaN|     NaN|       NaN|             NaN|    NaN|    NaN|      NaN|      NaN|      NaN|            NaN|      NaN| NaN| NaN|NaN|NaN|       NaN|      NaN|83.14|     0|  NaN|  NaN|      -0.03|     3|          0|\n",
      "|p000001| 90|   95|  NaN|NaN|  NaN|NaN|  30|  NaN|        24| NaN| NaN|7.36|  100| NaN|NaN|NaN|         NaN|    NaN|     NaN|       NaN|             NaN|    NaN|    NaN|      NaN|      NaN|      NaN|            NaN|      NaN| NaN| NaN|NaN|NaN|       NaN|      NaN|83.14|     0|  NaN|  NaN|      -0.03|     4|          0|\n",
      "|p000001|103| 88.5|  NaN|122|91.33|NaN|24.5|  NaN|       NaN| NaN|0.28| NaN|  NaN| NaN|NaN|NaN|         NaN|    NaN|     NaN|       NaN|             NaN|    NaN|    NaN|      NaN|      NaN|      NaN|            NaN|      NaN| NaN| NaN|NaN|NaN|       NaN|      NaN|83.14|     0|  NaN|  NaN|      -0.03|     5|          0|\n",
      "|p000001|110|   91|  NaN|NaN|  NaN|NaN|  22|  NaN|       NaN| NaN| NaN| NaN|  NaN| NaN|NaN|NaN|         NaN|    NaN|     NaN|       NaN|             NaN|    NaN|    NaN|      NaN|      NaN|      NaN|            NaN|      NaN| NaN| NaN|NaN|NaN|       NaN|      NaN|83.14|     0|  NaN|  NaN|      -0.03|     6|          0|\n",
      "|p000001|108|   92|36.11|123|   77|NaN|  29|  NaN|       NaN| NaN| NaN| NaN|  NaN| NaN|NaN|NaN|         NaN|    NaN|     NaN|       NaN|             NaN|    NaN|    NaN|      NaN|      NaN|      NaN|            NaN|      NaN| NaN| NaN|NaN|NaN|       NaN|      NaN|83.14|     0|  NaN|  NaN|      -0.03|     7|          0|\n",
      "|p000001|106| 90.5|  NaN| 93|76.33|NaN|  29|  NaN|       NaN| NaN| NaN| NaN|  NaN| NaN|NaN|NaN|         NaN|    NaN|     NaN|       NaN|             NaN|    NaN|    NaN|      NaN|      NaN|      NaN|            NaN|      NaN| NaN| NaN|NaN|NaN|       NaN|      NaN|83.14|     0|  NaN|  NaN|      -0.03|     8|          0|\n",
      "|p000001|104|   95|  NaN|133|88.33|NaN|  26|  NaN|       NaN| NaN| NaN| NaN|  NaN| NaN|NaN|NaN|         NaN|    NaN|     NaN|       NaN|             NaN|    NaN|    NaN|      NaN|      NaN|      NaN|            NaN|      NaN| NaN| NaN|NaN|NaN|       NaN|      NaN|83.14|     0|  NaN|  NaN|      -0.03|     9|          0|\n",
      "|p000001|102|   91|  NaN|134|87.33|NaN|  30|  NaN|       NaN| NaN| NaN| NaN|  NaN| NaN|NaN|NaN|         NaN|    NaN|     NaN|       NaN|             NaN|    NaN|    NaN|      NaN|      NaN|      NaN|            NaN|      NaN| NaN| NaN|NaN|NaN|       NaN|      NaN|83.14|     0|  NaN|  NaN|      -0.03|    10|          0|\n",
      "|p000001|104|   92|37.17|138|86.67|NaN|  19|  NaN|        23| NaN| NaN| 7.4|   86|  88|NaN|NaN|         NaN|    NaN|     NaN|       NaN|             NaN|    NaN|    NaN|      NaN|      NaN|      NaN|            NaN|      NaN| NaN| NaN|NaN|NaN|       NaN|      NaN|83.14|     0|  NaN|  NaN|      -0.03|    11|          0|\n",
      "|p000001|NaN|  NaN|  NaN|NaN|  NaN|NaN| NaN|  NaN|       NaN| NaN| NaN| NaN|  NaN| NaN|NaN|NaN|         NaN|    NaN|     NaN|       NaN|             NaN|    NaN|    NaN|      NaN|      NaN|      NaN|            NaN|      NaN| NaN| NaN|NaN|NaN|       NaN|      NaN|83.14|     0|  NaN|  NaN|      -0.03|    12|          0|\n",
      "|p000001|102|   93|  NaN|129|   77|NaN|  24|  NaN|       NaN| NaN| NaN| NaN|  NaN| NaN|NaN|NaN|         NaN|    NaN|     NaN|       NaN|             NaN|    NaN|    NaN|      NaN|      NaN|      NaN|            NaN|      NaN| NaN| NaN|NaN|NaN|       NaN|      NaN|83.14|     0|  NaN|  NaN|      -0.03|    13|          0|\n",
      "|p000001|108|   90|  NaN|122|96.67|NaN|  27|  NaN|       NaN| NaN| NaN| NaN|  NaN| NaN|NaN|NaN|         NaN|    NaN|     NaN|       NaN|             NaN|    NaN|    NaN|      NaN|      NaN|      NaN|            NaN|      NaN| NaN| NaN|NaN|NaN|       NaN|      NaN|83.14|     0|  NaN|  NaN|      -0.03|    14|          0|\n",
      "|p000001|106|   90|  NaN|NaN|  NaN|NaN|  25|  NaN|       NaN| NaN| NaN| NaN|  NaN| NaN|NaN|NaN|         NaN|    NaN|     NaN|       NaN|             NaN|    NaN|    NaN|      NaN|      NaN|      NaN|            NaN|      NaN| NaN| NaN|NaN|NaN|       NaN|      NaN|83.14|     0|  NaN|  NaN|      -0.03|    15|          0|\n",
      "|p000001|109|   91|36.56|132|96.67|NaN|  24|  NaN|       NaN| NaN| NaN| NaN|  NaN| NaN|NaN|NaN|         NaN|    NaN|     NaN|       NaN|             NaN|    NaN|    NaN|      NaN|      NaN|      NaN|            NaN|      NaN| NaN| NaN|NaN|NaN|       NaN|      NaN|83.14|     0|  NaN|  NaN|      -0.03|    16|          0|\n",
      "|p000001|103|   90|  NaN|NaN|  NaN|NaN|  30|  NaN|        21|  45| NaN|7.37|   90|  91| 16| 14|          98|    9.3|      85|       0.7|             NaN|    193|    NaN|        2|      3.3|      3.8|            0.3|      NaN|37.2|12.5|NaN|5.7|       NaN|      317|83.14|     0|  NaN|  NaN|      -0.03|    17|          0|\n",
      "|p000001|104|   92|  NaN|132|81.33|NaN|  28|  NaN|       NaN| NaN| NaN| NaN|  NaN| NaN|NaN|NaN|         NaN|    NaN|     NaN|       NaN|             NaN|    NaN|    NaN|      NaN|      NaN|      NaN|            NaN|      NaN| NaN| NaN|NaN|NaN|       NaN|      NaN|83.14|     0|  NaN|  NaN|      -0.03|    18|          0|\n",
      "|p000001|NaN|  NaN|  NaN|NaN|  NaN|NaN| NaN|  NaN|       NaN| NaN| NaN| NaN|  NaN| NaN|NaN|NaN|         NaN|    NaN|     NaN|       NaN|             NaN|    NaN|    NaN|      NaN|      NaN|      NaN|            NaN|      NaN| NaN| NaN|NaN|NaN|       NaN|      NaN|83.14|     0|  NaN|  NaN|      -0.03|    19|          0|\n",
      "|p000001|109|   91|37.11|147|   91|NaN|  22|  NaN|       NaN| NaN| NaN| NaN|  NaN| NaN|NaN|NaN|         NaN|    NaN|     NaN|       NaN|             NaN|    NaN|    NaN|      NaN|      NaN|      NaN|            NaN|      NaN| NaN| NaN|NaN|NaN|       NaN|      NaN|83.14|     0|  NaN|  NaN|      -0.03|    20|          0|\n",
      "+-------+---+-----+-----+---+-----+---+----+-----+----------+----+----+----+-----+----+---+---+------------+-------+--------+----------+----------------+-------+-------+---------+---------+---------+---------------+---------+----+----+---+---+----------+---------+-----+------+-----+-----+-----------+------+-----------+\n",
      "only showing top 20 rows\n",
      "\n"
     ]
    }
   ],
   "source": [
    "data_file1 = '/opt/app-root/src/data/test.psv'\n",
    "sdfData1 = scSpark.read.csv(data_file1, header=True, sep=\"|\").cache()\n",
    "print('Total Records = {}'.format(sdfData1.count()))\n",
    "sdfData.show()"
   ]
  },
  {
   "cell_type": "code",
   "execution_count": 20,
   "metadata": {},
   "outputs": [
    {
     "name": "stdout",
     "output_type": "stream",
     "text": [
      "+--------+\n",
      "|count(1)|\n",
      "+--------+\n",
      "|  190615|\n",
      "+--------+\n",
      "\n"
     ]
    }
   ],
   "source": [
    "sdfData1.registerTempTable(\"test\")\n",
    "output =  scSpark.sql('SELECT count(*) from test')\n",
    "output.show()"
   ]
  },
  {
   "cell_type": "code",
   "execution_count": 21,
   "metadata": {},
   "outputs": [
    {
     "name": "stdout",
     "output_type": "stream",
     "text": [
      "+-------+---+-----+----+-----+-----+----+----+-----+----------+----+----+---+-----+----+---+---+------------+-------+--------+----------+----------------+-------+-------+---------+---------+---------+---------------+---------+----+---+---+----+----------+---------+---+------+-----+-----+-----------+------+-----------+\n",
      "|    PID| HR|O2Sat|Temp|  SBP|  MAP| DBP|Resp|EtCO2|BaseExcess|HCO3|FiO2| pH|PaCO2|SaO2|AST|BUN|Alkalinephos|Calcium|Chloride|Creatinine|Bilirubin_direct|Glucose|Lactate|Magnesium|Phosphate|Potassium|Bilirubin_total|TroponinI| Hct|Hgb|PTT| WBC|Fibrinogen|Platelets|Age|Gender|Unit1|Unit2|HospAdmTime|ICULOS|SepsisLabel|\n",
      "+-------+---+-----+----+-----+-----+----+----+-----+----------+----+----+---+-----+----+---+---+------------+-------+--------+----------+----------------+-------+-------+---------+---------+---------+---------------+---------+----+---+---+----+----------+---------+---+------+-----+-----+-----------+------+-----------+\n",
      "|p115001|NaN|  NaN| NaN|  NaN|  NaN| NaN| NaN|  NaN|       NaN| NaN| NaN|NaN|  NaN| NaN|NaN|NaN|         NaN|    NaN|     NaN|       NaN|             NaN|    NaN|    NaN|      NaN|      NaN|      NaN|            NaN|      NaN| NaN|NaN|NaN| NaN|       NaN|      NaN| 74|     1|  NaN|  NaN|     -43.69|     1|          0|\n",
      "|p115001| 67|   95| NaN|165.5|  106|  76| NaN|  NaN|       NaN| NaN| NaN|NaN|  NaN| NaN|NaN|NaN|         NaN|    NaN|     NaN|       NaN|             NaN|    NaN|    NaN|      NaN|      NaN|      NaN|            NaN|      NaN| NaN|NaN|NaN| NaN|       NaN|      NaN| 74|     1|  NaN|  NaN|     -43.69|     2|          0|\n",
      "|p115001| 62|   95|  36|  161|  104|  75| NaN|  NaN|       NaN| NaN| NaN|NaN|  NaN| NaN|NaN|NaN|         NaN|    NaN|     NaN|       NaN|             NaN|    NaN|    NaN|      NaN|      NaN|      NaN|            NaN|      NaN| NaN|NaN|NaN| NaN|       NaN|      NaN| 74|     1|  NaN|  NaN|     -43.69|     3|          0|\n",
      "|p115001| 68|   96| NaN|155.5|101.5|73.5| NaN|  NaN|       NaN| NaN| NaN|NaN|  NaN| NaN|NaN|NaN|         NaN|    NaN|     NaN|       NaN|             NaN|    110|    NaN|      NaN|      NaN|      NaN|            NaN|      NaN| NaN|NaN|NaN| NaN|       NaN|      NaN| 74|     1|  NaN|  NaN|     -43.69|     4|          0|\n",
      "|p115001| 65|   95|36.1|  142|   87|  61| NaN|  NaN|       NaN| NaN| NaN|NaN|  NaN| NaN|NaN|NaN|         NaN|    NaN|     NaN|       NaN|             NaN|    NaN|    NaN|      NaN|      NaN|      NaN|            NaN|      NaN| NaN|NaN|NaN| NaN|       NaN|      NaN| 74|     1|  NaN|  NaN|     -43.69|     5|          0|\n",
      "|p115001| 70|   95| NaN|  149|   90|  64| NaN|  NaN|       NaN| NaN| NaN|NaN|  NaN| NaN|NaN|NaN|         NaN|    NaN|     NaN|       NaN|             NaN|    NaN|    NaN|      NaN|      NaN|      NaN|            NaN|      NaN| NaN|NaN|NaN| NaN|       NaN|      NaN| 74|     1|  NaN|  NaN|     -43.69|     6|          0|\n",
      "|p115001| 66|   94|  36|  125|   74|  51|  15|  NaN|       NaN| NaN| NaN|NaN|  NaN| NaN|NaN|NaN|         NaN|    NaN|     NaN|       NaN|             NaN|    NaN|    NaN|      NaN|      NaN|      NaN|            NaN|      NaN| NaN|NaN|NaN| NaN|       NaN|      NaN| 74|     1|  NaN|  NaN|     -43.69|     7|          0|\n",
      "|p115001| 65|   95| NaN|  129|   85|  63|  18|  NaN|       NaN| NaN| NaN|NaN|  NaN| NaN|NaN|NaN|         NaN|    NaN|     NaN|       NaN|             NaN|    NaN|    NaN|      NaN|      NaN|      NaN|            NaN|      NaN| NaN|NaN|NaN| NaN|       NaN|      NaN| 74|     1|  NaN|  NaN|     -43.69|     8|          0|\n",
      "|p115001| 63|   95| NaN|  128|   85|  65|  14|  NaN|       NaN| NaN| NaN|NaN|  NaN| NaN|NaN|NaN|         NaN|    NaN|     NaN|       NaN|             NaN|    NaN|    NaN|      NaN|      NaN|      NaN|            NaN|      NaN| NaN|NaN|NaN| NaN|       NaN|      NaN| 74|     1|  NaN|  NaN|     -43.69|     9|          0|\n",
      "|p115001| 66|   95| NaN|  143|   96|  68|  15|  NaN|       NaN| NaN| NaN|NaN|  NaN| NaN|NaN|NaN|         NaN|    NaN|     NaN|       NaN|             NaN|    NaN|    NaN|      NaN|      NaN|      NaN|            NaN|      NaN| NaN|NaN|NaN| NaN|       NaN|      NaN| 74|     1|  NaN|  NaN|     -43.69|    10|          0|\n",
      "|p115001| 57|   94|36.2|  122|   83|  63|  13|  NaN|       NaN| NaN| NaN|NaN|  NaN| NaN|NaN|NaN|         NaN|    NaN|     NaN|       NaN|             NaN|    NaN|    NaN|      NaN|      NaN|      NaN|            NaN|      NaN| NaN|NaN|NaN| NaN|       NaN|      NaN| 74|     1|  NaN|  NaN|     -43.69|    11|          0|\n",
      "|p115001| 59|   96| NaN|  135|   90|  66|  15|  NaN|       NaN| NaN| NaN|NaN|  NaN| NaN|NaN|NaN|         NaN|    NaN|     NaN|       NaN|             NaN|    NaN|    NaN|      NaN|      NaN|      NaN|            NaN|      NaN| NaN|NaN|NaN| NaN|       NaN|      NaN| 74|     1|  NaN|  NaN|     -43.69|    12|          0|\n",
      "|p115001| 60|   96| NaN|  138|   91|  67|  18|  NaN|       NaN| NaN| NaN|NaN|  NaN| NaN|NaN| 22|         NaN|    8.3|     NaN|      0.84|             NaN|    110|    NaN|      2.2|      3.9|      3.7|            NaN|      NaN|36.7| 12|NaN|11.9|       NaN|      171| 74|     1|  NaN|  NaN|     -43.69|    13|          0|\n",
      "|p115001| 54|   96| NaN|  113|   93|  76|  13|  NaN|       NaN| NaN| NaN|NaN|  NaN| NaN|NaN|NaN|         NaN|    NaN|     NaN|       NaN|             NaN|    NaN|    NaN|      NaN|      NaN|      NaN|            NaN|      NaN| NaN|NaN|NaN| NaN|       NaN|      NaN| 74|     1|  NaN|  NaN|     -43.69|    14|          0|\n",
      "|p115001| 49|   96|36.3|  136|   85|  62|  16|  NaN|       NaN| NaN| NaN|NaN|  NaN| NaN|NaN|NaN|         NaN|    NaN|     NaN|       NaN|             NaN|    NaN|    NaN|      NaN|      NaN|      NaN|            NaN|      NaN| NaN|NaN|NaN| NaN|       NaN|      NaN| 74|     1|  NaN|  NaN|     -43.69|    15|          0|\n",
      "|p115001| 53|   94| NaN|  119|  109|  98|  15|  NaN|       NaN| NaN| NaN|NaN|  NaN| NaN|NaN|NaN|         NaN|    NaN|     NaN|       NaN|             NaN|    NaN|    NaN|      NaN|      NaN|      NaN|            NaN|      NaN| NaN|NaN|NaN| NaN|       NaN|      NaN| 74|     1|  NaN|  NaN|     -43.69|    16|          0|\n",
      "|p115001| 48|   96| NaN|  137|   89|  65|  15|  NaN|       NaN| NaN| NaN|NaN|  NaN| NaN|NaN|NaN|         NaN|    NaN|     NaN|       NaN|             NaN|    NaN|    NaN|      NaN|      NaN|      NaN|            NaN|      NaN| NaN|NaN|NaN| NaN|       NaN|      NaN| 74|     1|  NaN|  NaN|     -43.69|    17|          0|\n",
      "|p115001| 50|   96| NaN|  143|   94|  69|  15|  NaN|       NaN| NaN| NaN|NaN|  NaN| NaN|NaN|NaN|         NaN|    NaN|     NaN|       NaN|             NaN|    NaN|    NaN|      NaN|      NaN|      NaN|            NaN|      NaN| NaN|NaN|NaN| NaN|       NaN|      NaN| 74|     1|  NaN|  NaN|     -43.69|    18|          0|\n",
      "|p115001| 60|   95|36.3|  157|  104|  79|  15|  NaN|       NaN| NaN| NaN|NaN|  NaN| NaN|NaN|NaN|         NaN|    NaN|     NaN|       NaN|             NaN|    NaN|    NaN|      NaN|      NaN|      NaN|            NaN|      NaN| NaN|NaN|NaN| NaN|       NaN|      NaN| 74|     1|  NaN|  NaN|     -43.69|    19|          0|\n",
      "|p115001| 71|   95| NaN|  133|   86|  67|  15|  NaN|       NaN| NaN| NaN|NaN|  NaN| NaN|NaN|NaN|         NaN|    NaN|     NaN|       NaN|             NaN|    NaN|    NaN|      NaN|      NaN|      NaN|            NaN|      NaN| NaN|NaN|NaN| NaN|       NaN|      NaN| 74|     1|  NaN|  NaN|     -43.69|    20|          0|\n",
      "+-------+---+-----+----+-----+-----+----+----+-----+----------+----+----+---+-----+----+---+---+------------+-------+--------+----------+----------------+-------+-------+---------+---------+---------+---------------+---------+----+---+---+----+----------+---------+---+------+-----+-----+-----------+------+-----------+\n",
      "only showing top 20 rows\n",
      "\n"
     ]
    },
    {
     "ename": "Py4JJavaError",
     "evalue": "An error occurred while calling o105.save.\n: com.mysql.cj.jdbc.exceptions.CommunicationsException: Communications link failure\n\nThe last packet sent successfully to the server was 0 milliseconds ago. The driver has not received any packets from the server.\n\tat com.mysql.cj.jdbc.exceptions.SQLError.createCommunicationsException(SQLError.java:174)\n\tat com.mysql.cj.jdbc.exceptions.SQLExceptionsMapping.translateException(SQLExceptionsMapping.java:64)\n\tat com.mysql.cj.jdbc.ConnectionImpl.createNewIO(ConnectionImpl.java:836)\n\tat com.mysql.cj.jdbc.ConnectionImpl.<init>(ConnectionImpl.java:456)\n\tat com.mysql.cj.jdbc.ConnectionImpl.getInstance(ConnectionImpl.java:246)\n\tat com.mysql.cj.jdbc.NonRegisteringDriver.connect(NonRegisteringDriver.java:197)\n\tat org.apache.spark.sql.execution.datasources.jdbc.JdbcUtils$$anonfun$createConnectionFactory$1.apply(JdbcUtils.scala:61)\n\tat org.apache.spark.sql.execution.datasources.jdbc.JdbcUtils$$anonfun$createConnectionFactory$1.apply(JdbcUtils.scala:52)\n\tat org.apache.spark.sql.execution.datasources.jdbc.JdbcRelationProvider.createRelation(JdbcRelationProvider.scala:63)\n\tat org.apache.spark.sql.execution.datasources.DataSource.write(DataSource.scala:469)\n\tat org.apache.spark.sql.execution.datasources.SaveIntoDataSourceCommand.run(SaveIntoDataSourceCommand.scala:50)\n\tat org.apache.spark.sql.execution.command.ExecutedCommandExec.sideEffectResult$lzycompute(commands.scala:58)\n\tat org.apache.spark.sql.execution.command.ExecutedCommandExec.sideEffectResult(commands.scala:56)\n\tat org.apache.spark.sql.execution.command.ExecutedCommandExec.doExecute(commands.scala:74)\n\tat org.apache.spark.sql.execution.SparkPlan$$anonfun$execute$1.apply(SparkPlan.scala:117)\n\tat org.apache.spark.sql.execution.SparkPlan$$anonfun$execute$1.apply(SparkPlan.scala:117)\n\tat org.apache.spark.sql.execution.SparkPlan$$anonfun$executeQuery$1.apply(SparkPlan.scala:138)\n\tat org.apache.spark.rdd.RDDOperationScope$.withScope(RDDOperationScope.scala:151)\n\tat org.apache.spark.sql.execution.SparkPlan.executeQuery(SparkPlan.scala:135)\n\tat org.apache.spark.sql.execution.SparkPlan.execute(SparkPlan.scala:116)\n\tat org.apache.spark.sql.execution.QueryExecution.toRdd$lzycompute(QueryExecution.scala:92)\n\tat org.apache.spark.sql.execution.QueryExecution.toRdd(QueryExecution.scala:92)\n\tat org.apache.spark.sql.DataFrameWriter.runCommand(DataFrameWriter.scala:609)\n\tat org.apache.spark.sql.DataFrameWriter.save(DataFrameWriter.scala:233)\n\tat sun.reflect.NativeMethodAccessorImpl.invoke0(Native Method)\n\tat sun.reflect.NativeMethodAccessorImpl.invoke(NativeMethodAccessorImpl.java:62)\n\tat sun.reflect.DelegatingMethodAccessorImpl.invoke(DelegatingMethodAccessorImpl.java:43)\n\tat java.lang.reflect.Method.invoke(Method.java:498)\n\tat py4j.reflection.MethodInvoker.invoke(MethodInvoker.java:244)\n\tat py4j.reflection.ReflectionEngine.invoke(ReflectionEngine.java:357)\n\tat py4j.Gateway.invoke(Gateway.java:280)\n\tat py4j.commands.AbstractCommand.invokeMethod(AbstractCommand.java:132)\n\tat py4j.commands.CallCommand.execute(CallCommand.java:79)\n\tat py4j.GatewayConnection.run(GatewayConnection.java:214)\n\tat java.lang.Thread.run(Thread.java:748)\nCaused by: com.mysql.cj.exceptions.CJCommunicationsException: Communications link failure\n\nThe last packet sent successfully to the server was 0 milliseconds ago. The driver has not received any packets from the server.\n\tat sun.reflect.NativeConstructorAccessorImpl.newInstance0(Native Method)\n\tat sun.reflect.NativeConstructorAccessorImpl.newInstance(NativeConstructorAccessorImpl.java:62)\n\tat sun.reflect.DelegatingConstructorAccessorImpl.newInstance(DelegatingConstructorAccessorImpl.java:45)\n\tat java.lang.reflect.Constructor.newInstance(Constructor.java:423)\n\tat com.mysql.cj.exceptions.ExceptionFactory.createException(ExceptionFactory.java:61)\n\tat com.mysql.cj.exceptions.ExceptionFactory.createException(ExceptionFactory.java:105)\n\tat com.mysql.cj.exceptions.ExceptionFactory.createException(ExceptionFactory.java:151)\n\tat com.mysql.cj.exceptions.ExceptionFactory.createCommunicationsException(ExceptionFactory.java:167)\n\tat com.mysql.cj.protocol.a.NativeSocketConnection.connect(NativeSocketConnection.java:91)\n\tat com.mysql.cj.NativeSession.connect(NativeSession.java:144)\n\tat com.mysql.cj.jdbc.ConnectionImpl.connectOneTryOnly(ConnectionImpl.java:956)\n\tat com.mysql.cj.jdbc.ConnectionImpl.createNewIO(ConnectionImpl.java:826)\n\t... 32 more\nCaused by: java.net.NoRouteToHostException: No route to host (Host unreachable)\n\tat java.net.PlainSocketImpl.socketConnect(Native Method)\n\tat java.net.AbstractPlainSocketImpl.doConnect(AbstractPlainSocketImpl.java:350)\n\tat java.net.AbstractPlainSocketImpl.connectToAddress(AbstractPlainSocketImpl.java:206)\n\tat java.net.AbstractPlainSocketImpl.connect(AbstractPlainSocketImpl.java:188)\n\tat java.net.SocksSocketImpl.connect(SocksSocketImpl.java:392)\n\tat java.net.Socket.connect(Socket.java:589)\n\tat com.mysql.cj.protocol.StandardSocketFactory.connect(StandardSocketFactory.java:155)\n\tat com.mysql.cj.protocol.a.NativeSocketConnection.connect(NativeSocketConnection.java:65)\n\t... 35 more\n",
     "output_type": "error",
     "traceback": [
      "\u001b[0;31m---------------------------------------------------------------------------\u001b[0m",
      "\u001b[0;31mPy4JJavaError\u001b[0m                             Traceback (most recent call last)",
      "\u001b[0;32m<ipython-input-21-e0c03da52593>\u001b[0m in \u001b[0;36m<module>\u001b[0;34m\u001b[0m\n\u001b[1;32m     12\u001b[0m     \u001b[0mdbtable\u001b[0m\u001b[0;34m=\u001b[0m\u001b[0;34m'test'\u001b[0m\u001b[0;34m,\u001b[0m\u001b[0;34m\u001b[0m\u001b[0m\n\u001b[1;32m     13\u001b[0m     \u001b[0muser\u001b[0m\u001b[0;34m=\u001b[0m\u001b[0;34m'root'\u001b[0m\u001b[0;34m,\u001b[0m\u001b[0;34m\u001b[0m\u001b[0m\n\u001b[0;32m---> 14\u001b[0;31m     password='Sepsis_Parkar_2020').mode('append').save()\n\u001b[0m",
      "\u001b[0;32m/opt/app-root/lib/python3.6/site-packages/pyspark/sql/readwriter.py\u001b[0m in \u001b[0;36msave\u001b[0;34m(self, path, format, mode, partitionBy, **options)\u001b[0m\n\u001b[1;32m    591\u001b[0m             \u001b[0mself\u001b[0m\u001b[0;34m.\u001b[0m\u001b[0mformat\u001b[0m\u001b[0;34m(\u001b[0m\u001b[0mformat\u001b[0m\u001b[0;34m)\u001b[0m\u001b[0;34m\u001b[0m\u001b[0m\n\u001b[1;32m    592\u001b[0m         \u001b[0;32mif\u001b[0m \u001b[0mpath\u001b[0m \u001b[0;32mis\u001b[0m \u001b[0;32mNone\u001b[0m\u001b[0;34m:\u001b[0m\u001b[0;34m\u001b[0m\u001b[0m\n\u001b[0;32m--> 593\u001b[0;31m             \u001b[0mself\u001b[0m\u001b[0;34m.\u001b[0m\u001b[0m_jwrite\u001b[0m\u001b[0;34m.\u001b[0m\u001b[0msave\u001b[0m\u001b[0;34m(\u001b[0m\u001b[0;34m)\u001b[0m\u001b[0;34m\u001b[0m\u001b[0m\n\u001b[0m\u001b[1;32m    594\u001b[0m         \u001b[0;32melse\u001b[0m\u001b[0;34m:\u001b[0m\u001b[0;34m\u001b[0m\u001b[0m\n\u001b[1;32m    595\u001b[0m             \u001b[0mself\u001b[0m\u001b[0;34m.\u001b[0m\u001b[0m_jwrite\u001b[0m\u001b[0;34m.\u001b[0m\u001b[0msave\u001b[0m\u001b[0;34m(\u001b[0m\u001b[0mpath\u001b[0m\u001b[0;34m)\u001b[0m\u001b[0;34m\u001b[0m\u001b[0m\n",
      "\u001b[0;32m/opt/app-root/lib/python3.6/site-packages/py4j/java_gateway.py\u001b[0m in \u001b[0;36m__call__\u001b[0;34m(self, *args)\u001b[0m\n\u001b[1;32m   1131\u001b[0m         \u001b[0manswer\u001b[0m \u001b[0;34m=\u001b[0m \u001b[0mself\u001b[0m\u001b[0;34m.\u001b[0m\u001b[0mgateway_client\u001b[0m\u001b[0;34m.\u001b[0m\u001b[0msend_command\u001b[0m\u001b[0;34m(\u001b[0m\u001b[0mcommand\u001b[0m\u001b[0;34m)\u001b[0m\u001b[0;34m\u001b[0m\u001b[0m\n\u001b[1;32m   1132\u001b[0m         return_value = get_return_value(\n\u001b[0;32m-> 1133\u001b[0;31m             answer, self.gateway_client, self.target_id, self.name)\n\u001b[0m\u001b[1;32m   1134\u001b[0m \u001b[0;34m\u001b[0m\u001b[0m\n\u001b[1;32m   1135\u001b[0m         \u001b[0;32mfor\u001b[0m \u001b[0mtemp_arg\u001b[0m \u001b[0;32min\u001b[0m \u001b[0mtemp_args\u001b[0m\u001b[0;34m:\u001b[0m\u001b[0;34m\u001b[0m\u001b[0m\n",
      "\u001b[0;32m/opt/app-root/lib/python3.6/site-packages/pyspark/sql/utils.py\u001b[0m in \u001b[0;36mdeco\u001b[0;34m(*a, **kw)\u001b[0m\n\u001b[1;32m     61\u001b[0m     \u001b[0;32mdef\u001b[0m \u001b[0mdeco\u001b[0m\u001b[0;34m(\u001b[0m\u001b[0;34m*\u001b[0m\u001b[0ma\u001b[0m\u001b[0;34m,\u001b[0m \u001b[0;34m**\u001b[0m\u001b[0mkw\u001b[0m\u001b[0;34m)\u001b[0m\u001b[0;34m:\u001b[0m\u001b[0;34m\u001b[0m\u001b[0m\n\u001b[1;32m     62\u001b[0m         \u001b[0;32mtry\u001b[0m\u001b[0;34m:\u001b[0m\u001b[0;34m\u001b[0m\u001b[0m\n\u001b[0;32m---> 63\u001b[0;31m             \u001b[0;32mreturn\u001b[0m \u001b[0mf\u001b[0m\u001b[0;34m(\u001b[0m\u001b[0;34m*\u001b[0m\u001b[0ma\u001b[0m\u001b[0;34m,\u001b[0m \u001b[0;34m**\u001b[0m\u001b[0mkw\u001b[0m\u001b[0;34m)\u001b[0m\u001b[0;34m\u001b[0m\u001b[0m\n\u001b[0m\u001b[1;32m     64\u001b[0m         \u001b[0;32mexcept\u001b[0m \u001b[0mpy4j\u001b[0m\u001b[0;34m.\u001b[0m\u001b[0mprotocol\u001b[0m\u001b[0;34m.\u001b[0m\u001b[0mPy4JJavaError\u001b[0m \u001b[0;32mas\u001b[0m \u001b[0me\u001b[0m\u001b[0;34m:\u001b[0m\u001b[0;34m\u001b[0m\u001b[0m\n\u001b[1;32m     65\u001b[0m             \u001b[0ms\u001b[0m \u001b[0;34m=\u001b[0m \u001b[0me\u001b[0m\u001b[0;34m.\u001b[0m\u001b[0mjava_exception\u001b[0m\u001b[0;34m.\u001b[0m\u001b[0mtoString\u001b[0m\u001b[0;34m(\u001b[0m\u001b[0;34m)\u001b[0m\u001b[0;34m\u001b[0m\u001b[0m\n",
      "\u001b[0;32m/opt/app-root/lib/python3.6/site-packages/py4j/protocol.py\u001b[0m in \u001b[0;36mget_return_value\u001b[0;34m(answer, gateway_client, target_id, name)\u001b[0m\n\u001b[1;32m    317\u001b[0m                 raise Py4JJavaError(\n\u001b[1;32m    318\u001b[0m                     \u001b[0;34m\"An error occurred while calling {0}{1}{2}.\\n\"\u001b[0m\u001b[0;34m.\u001b[0m\u001b[0;34m\u001b[0m\u001b[0m\n\u001b[0;32m--> 319\u001b[0;31m                     format(target_id, \".\", name), value)\n\u001b[0m\u001b[1;32m    320\u001b[0m             \u001b[0;32melse\u001b[0m\u001b[0;34m:\u001b[0m\u001b[0;34m\u001b[0m\u001b[0m\n\u001b[1;32m    321\u001b[0m                 raise Py4JError(\n",
      "\u001b[0;31mPy4JJavaError\u001b[0m: An error occurred while calling o105.save.\n: com.mysql.cj.jdbc.exceptions.CommunicationsException: Communications link failure\n\nThe last packet sent successfully to the server was 0 milliseconds ago. The driver has not received any packets from the server.\n\tat com.mysql.cj.jdbc.exceptions.SQLError.createCommunicationsException(SQLError.java:174)\n\tat com.mysql.cj.jdbc.exceptions.SQLExceptionsMapping.translateException(SQLExceptionsMapping.java:64)\n\tat com.mysql.cj.jdbc.ConnectionImpl.createNewIO(ConnectionImpl.java:836)\n\tat com.mysql.cj.jdbc.ConnectionImpl.<init>(ConnectionImpl.java:456)\n\tat com.mysql.cj.jdbc.ConnectionImpl.getInstance(ConnectionImpl.java:246)\n\tat com.mysql.cj.jdbc.NonRegisteringDriver.connect(NonRegisteringDriver.java:197)\n\tat org.apache.spark.sql.execution.datasources.jdbc.JdbcUtils$$anonfun$createConnectionFactory$1.apply(JdbcUtils.scala:61)\n\tat org.apache.spark.sql.execution.datasources.jdbc.JdbcUtils$$anonfun$createConnectionFactory$1.apply(JdbcUtils.scala:52)\n\tat org.apache.spark.sql.execution.datasources.jdbc.JdbcRelationProvider.createRelation(JdbcRelationProvider.scala:63)\n\tat org.apache.spark.sql.execution.datasources.DataSource.write(DataSource.scala:469)\n\tat org.apache.spark.sql.execution.datasources.SaveIntoDataSourceCommand.run(SaveIntoDataSourceCommand.scala:50)\n\tat org.apache.spark.sql.execution.command.ExecutedCommandExec.sideEffectResult$lzycompute(commands.scala:58)\n\tat org.apache.spark.sql.execution.command.ExecutedCommandExec.sideEffectResult(commands.scala:56)\n\tat org.apache.spark.sql.execution.command.ExecutedCommandExec.doExecute(commands.scala:74)\n\tat org.apache.spark.sql.execution.SparkPlan$$anonfun$execute$1.apply(SparkPlan.scala:117)\n\tat org.apache.spark.sql.execution.SparkPlan$$anonfun$execute$1.apply(SparkPlan.scala:117)\n\tat org.apache.spark.sql.execution.SparkPlan$$anonfun$executeQuery$1.apply(SparkPlan.scala:138)\n\tat org.apache.spark.rdd.RDDOperationScope$.withScope(RDDOperationScope.scala:151)\n\tat org.apache.spark.sql.execution.SparkPlan.executeQuery(SparkPlan.scala:135)\n\tat org.apache.spark.sql.execution.SparkPlan.execute(SparkPlan.scala:116)\n\tat org.apache.spark.sql.execution.QueryExecution.toRdd$lzycompute(QueryExecution.scala:92)\n\tat org.apache.spark.sql.execution.QueryExecution.toRdd(QueryExecution.scala:92)\n\tat org.apache.spark.sql.DataFrameWriter.runCommand(DataFrameWriter.scala:609)\n\tat org.apache.spark.sql.DataFrameWriter.save(DataFrameWriter.scala:233)\n\tat sun.reflect.NativeMethodAccessorImpl.invoke0(Native Method)\n\tat sun.reflect.NativeMethodAccessorImpl.invoke(NativeMethodAccessorImpl.java:62)\n\tat sun.reflect.DelegatingMethodAccessorImpl.invoke(DelegatingMethodAccessorImpl.java:43)\n\tat java.lang.reflect.Method.invoke(Method.java:498)\n\tat py4j.reflection.MethodInvoker.invoke(MethodInvoker.java:244)\n\tat py4j.reflection.ReflectionEngine.invoke(ReflectionEngine.java:357)\n\tat py4j.Gateway.invoke(Gateway.java:280)\n\tat py4j.commands.AbstractCommand.invokeMethod(AbstractCommand.java:132)\n\tat py4j.commands.CallCommand.execute(CallCommand.java:79)\n\tat py4j.GatewayConnection.run(GatewayConnection.java:214)\n\tat java.lang.Thread.run(Thread.java:748)\nCaused by: com.mysql.cj.exceptions.CJCommunicationsException: Communications link failure\n\nThe last packet sent successfully to the server was 0 milliseconds ago. The driver has not received any packets from the server.\n\tat sun.reflect.NativeConstructorAccessorImpl.newInstance0(Native Method)\n\tat sun.reflect.NativeConstructorAccessorImpl.newInstance(NativeConstructorAccessorImpl.java:62)\n\tat sun.reflect.DelegatingConstructorAccessorImpl.newInstance(DelegatingConstructorAccessorImpl.java:45)\n\tat java.lang.reflect.Constructor.newInstance(Constructor.java:423)\n\tat com.mysql.cj.exceptions.ExceptionFactory.createException(ExceptionFactory.java:61)\n\tat com.mysql.cj.exceptions.ExceptionFactory.createException(ExceptionFactory.java:105)\n\tat com.mysql.cj.exceptions.ExceptionFactory.createException(ExceptionFactory.java:151)\n\tat com.mysql.cj.exceptions.ExceptionFactory.createCommunicationsException(ExceptionFactory.java:167)\n\tat com.mysql.cj.protocol.a.NativeSocketConnection.connect(NativeSocketConnection.java:91)\n\tat com.mysql.cj.NativeSession.connect(NativeSession.java:144)\n\tat com.mysql.cj.jdbc.ConnectionImpl.connectOneTryOnly(ConnectionImpl.java:956)\n\tat com.mysql.cj.jdbc.ConnectionImpl.createNewIO(ConnectionImpl.java:826)\n\t... 32 more\nCaused by: java.net.NoRouteToHostException: No route to host (Host unreachable)\n\tat java.net.PlainSocketImpl.socketConnect(Native Method)\n\tat java.net.AbstractPlainSocketImpl.doConnect(AbstractPlainSocketImpl.java:350)\n\tat java.net.AbstractPlainSocketImpl.connectToAddress(AbstractPlainSocketImpl.java:206)\n\tat java.net.AbstractPlainSocketImpl.connect(AbstractPlainSocketImpl.java:188)\n\tat java.net.SocksSocketImpl.connect(SocksSocketImpl.java:392)\n\tat java.net.Socket.connect(Socket.java:589)\n\tat com.mysql.cj.protocol.StandardSocketFactory.connect(StandardSocketFactory.java:155)\n\tat com.mysql.cj.protocol.a.NativeSocketConnection.connect(NativeSocketConnection.java:65)\n\t... 35 more\n"
     ]
    }
   ],
   "source": [
    "import os\n",
    "os.environ['PYSPARK_SUBMIT_ARGS'] = '--jars file:/opt/app-root/lib/python3.6/site-packages/pyspark/jars/mysql-connector-java-8.0.21.jar pyspark-shell'\n",
    "\n",
    "output = scSpark.sql('SELECT * from test')\n",
    "output.show()\n",
    "output.write.format('jdbc').options(\n",
    "    url='jdbc:mysql://10.128.1.138/sepsis',\n",
    "    #driver='com.mysql.jdbc.Driver',\n",
    "    driver='com.mysql.cj.jdbc.Driver',\n",
    "    #driver='mysql-connector-java.Driver',\n",
    "    #driver='mysql-connector-python',\n",
    "    dbtable='test',\n",
    "    user='root',\n",
    "    password='Sepsis_Parkar_2020').mode('append').save()"
   ]
  },
  {
   "cell_type": "code",
   "execution_count": 22,
   "metadata": {},
   "outputs": [
    {
     "name": "stdout",
     "output_type": "stream",
     "text": [
      "Total Records = 193026\n"
     ]
    }
   ],
   "source": [
    "data_file2 = '/opt/app-root/src/data/validation.psv'\n",
    "sdfData2 = scSpark.read.csv(data_file2, header=True, sep=\"|\").cache()\n",
    "print('Total Records = {}'.format(sdfData2.count()))"
   ]
  },
  {
   "cell_type": "code",
   "execution_count": 23,
   "metadata": {},
   "outputs": [
    {
     "name": "stdout",
     "output_type": "stream",
     "text": [
      "+--------+\n",
      "|count(1)|\n",
      "+--------+\n",
      "|  193026|\n",
      "+--------+\n",
      "\n"
     ]
    }
   ],
   "source": [
    "sdfData2.registerTempTable(\"validate\")\n",
    "output =  scSpark.sql('SELECT count(*) from validate')\n",
    "output.show()"
   ]
  },
  {
   "cell_type": "code",
   "execution_count": 24,
   "metadata": {},
   "outputs": [
    {
     "name": "stdout",
     "output_type": "stream",
     "text": [
      "+-------+----+-----+----+-----+-----+----+----+-----+----------+----+----+---+-----+----+---+---+------------+-------+--------+----------+----------------+-------+-------+---------+---------+---------+---------------+---------+---+---+---+---+----------+---------+---+------+-----+-----+-----------+------+-----------+\n",
      "|    PID|  HR|O2Sat|Temp|  SBP|  MAP| DBP|Resp|EtCO2|BaseExcess|HCO3|FiO2| pH|PaCO2|SaO2|AST|BUN|Alkalinephos|Calcium|Chloride|Creatinine|Bilirubin_direct|Glucose|Lactate|Magnesium|Phosphate|Potassium|Bilirubin_total|TroponinI|Hct|Hgb|PTT|WBC|Fibrinogen|Platelets|Age|Gender|Unit1|Unit2|HospAdmTime|ICULOS|SepsisLabel|\n",
      "+-------+----+-----+----+-----+-----+----+----+-----+----------+----+----+---+-----+----+---+---+------------+-------+--------+----------+----------------+-------+-------+---------+---------+---------+---------------+---------+---+---+---+---+----------+---------+---+------+-----+-----+-----------+------+-----------+\n",
      "|p110001| NaN|  NaN| NaN|  NaN|  NaN| NaN| NaN|  NaN|       NaN| NaN| NaN|NaN|  NaN| NaN|NaN|NaN|         NaN|    NaN|     NaN|       NaN|             NaN|    NaN|    NaN|      NaN|      NaN|      NaN|            NaN|      NaN|NaN|NaN|NaN|NaN|       NaN|      NaN| 56|     1|    1|    0|      -5.07|     1|          0|\n",
      "|p110001|97.5|   98|36.3|146.5|  114|  91|  24|  NaN|       NaN| NaN| NaN|NaN|  NaN| NaN|NaN|NaN|         NaN|    NaN|     NaN|       NaN|             NaN|    NaN|    NaN|      NaN|      NaN|      NaN|            NaN|      NaN|NaN|NaN|NaN|NaN|       NaN|      NaN| 56|     1|    1|    0|      -5.07|     2|          0|\n",
      "|p110001|  93|  100| NaN|145.5|  111|88.5|  18|  NaN|       NaN| NaN| NaN|NaN|  NaN| NaN|NaN|NaN|         NaN|    NaN|     NaN|       NaN|             NaN|    NaN|    NaN|      NaN|      NaN|      NaN|            NaN|    11.59|NaN|NaN|NaN|NaN|       NaN|      NaN| 56|     1|    1|    0|      -5.07|     3|          0|\n",
      "|p110001|  87|  100| NaN|  142|  109|  87|  20|  NaN|       NaN| NaN| NaN|NaN|  NaN| NaN|NaN|NaN|         NaN|    NaN|     NaN|       NaN|             NaN|    NaN|    NaN|      NaN|      NaN|      NaN|            NaN|      NaN|NaN|NaN|NaN|NaN|       NaN|      NaN| 56|     1|    1|    0|      -5.07|     4|          0|\n",
      "|p110001|93.5| 99.5| NaN|134.5|106.5|  87|  20|  NaN|       NaN| NaN| NaN|NaN|  NaN| NaN|NaN|NaN|         NaN|    NaN|     NaN|       NaN|             NaN|    NaN|    NaN|      NaN|      NaN|      NaN|            NaN|      NaN|NaN|NaN|NaN|NaN|       NaN|      NaN| 56|     1|    1|    0|      -5.07|     5|          0|\n",
      "|p110001|  90|  100| NaN|  NaN|  NaN| NaN| NaN|  NaN|       NaN| NaN| NaN|NaN|  NaN| NaN|NaN|NaN|         NaN|    NaN|     NaN|       NaN|             NaN|    NaN|    NaN|      NaN|      NaN|      NaN|            NaN|      NaN|NaN|NaN|NaN|NaN|       NaN|      NaN| 56|     1|    1|    0|      -5.07|     6|          0|\n",
      "|p110001| NaN|  NaN| NaN|  NaN|  NaN| NaN| NaN|  NaN|       NaN| NaN| NaN|NaN|  NaN| NaN|NaN|NaN|         NaN|    NaN|     NaN|       NaN|             NaN|    NaN|    NaN|      NaN|      NaN|      NaN|            NaN|      NaN|NaN|NaN|NaN|NaN|       NaN|      NaN| 56|     1|    1|    0|      -5.07|     7|          0|\n",
      "|p110001| NaN|  NaN| NaN|  NaN|  NaN| NaN| NaN|  NaN|       NaN| NaN| NaN|NaN|  NaN| NaN|NaN|NaN|         NaN|    NaN|     NaN|       NaN|             NaN|    NaN|    NaN|      NaN|      NaN|      NaN|            NaN|      NaN|NaN|NaN|NaN|NaN|       NaN|      NaN| 56|     1|    1|    0|      -5.07|     8|          0|\n",
      "|p110001|81.5| 99.5|35.2|134.5|101.5|  83|  15|  NaN|       NaN| NaN| NaN|NaN|  NaN| NaN|NaN|NaN|         NaN|    NaN|     NaN|       NaN|             NaN|    NaN|    NaN|      NaN|      NaN|      NaN|            NaN|      NaN|NaN|NaN|NaN|NaN|       NaN|      NaN| 56|     1|    1|    0|      -5.07|     9|          0|\n",
      "|p110001|  76|  NaN| NaN|  156|  NaN|  87|  20|  NaN|       NaN| NaN| NaN|NaN|  NaN| NaN|NaN|NaN|         NaN|    NaN|     NaN|       NaN|             NaN|    NaN|    NaN|      NaN|      NaN|      NaN|            NaN|      NaN|NaN|NaN|NaN|NaN|       NaN|      NaN| 56|     1|    1|    0|      -5.07|    10|          0|\n",
      "|p110001|89.5| 99.5|35.8|101.5| 75.5|64.5| NaN|  NaN|       NaN| NaN| NaN|NaN|  NaN| NaN|NaN|NaN|         NaN|    NaN|     NaN|       NaN|             NaN|    NaN|    NaN|      NaN|      NaN|      NaN|            NaN|      NaN|NaN|NaN|NaN|NaN|       NaN|      NaN| 56|     1|    1|    0|      -5.07|    11|          0|\n",
      "|p110001|  88|   96| NaN|  122| 88.5|  71| NaN|  NaN|       NaN| NaN| NaN|NaN|  NaN| NaN|NaN|NaN|         NaN|    NaN|     NaN|       NaN|             NaN|    NaN|    NaN|      NaN|      NaN|      NaN|            NaN|      NaN|NaN|NaN|NaN|NaN|       NaN|      NaN| 56|     1|    1|    0|      -5.07|    12|          0|\n",
      "|p110001|  96| 96.5|35.5|  120|   99|73.5| NaN|  NaN|       NaN| NaN| NaN|NaN|  NaN| NaN|NaN| 25|         NaN|    8.2|     NaN|      6.09|             NaN|    108|    NaN|      NaN|      NaN|      3.5|            NaN|     27.8|NaN|NaN|NaN|NaN|       NaN|      NaN| 56|     1|    1|    0|      -5.07|    13|          0|\n",
      "|p110001|  91| 96.5|36.3|  122|   91|  73|  15|  NaN|       NaN| NaN| NaN|NaN|  NaN| NaN|NaN|NaN|         NaN|    NaN|     NaN|       NaN|             NaN|    NaN|    NaN|      NaN|      NaN|      NaN|            NaN|      NaN|NaN|NaN|NaN|NaN|       NaN|      NaN| 56|     1|    1|    0|      -5.07|    14|          0|\n",
      "|p110001|  88|   99| NaN|  118|   82|  64|  11|  NaN|       NaN| NaN| NaN|NaN|  NaN| NaN|NaN|NaN|         NaN|    NaN|     NaN|       NaN|             NaN|    NaN|    NaN|      NaN|      NaN|      NaN|            NaN|      NaN|NaN|NaN|NaN|NaN|       NaN|      NaN| 56|     1|    1|    0|      -5.07|    15|          0|\n",
      "|p110001|84.5|   99| NaN|131.5| 99.5|79.5|  21|  NaN|       NaN| NaN| NaN|NaN|  NaN| NaN|NaN|NaN|         NaN|    NaN|     NaN|       NaN|             NaN|    NaN|    NaN|      NaN|      NaN|      NaN|            NaN|      NaN|NaN|NaN|NaN|NaN|       NaN|      NaN| 56|     1|    1|    0|      -5.07|    16|          0|\n",
      "|p110001|85.5| 99.5| NaN|114.5|   90|  74|13.5|  NaN|       NaN| NaN| NaN|NaN|  NaN| NaN|NaN|NaN|         NaN|    NaN|     NaN|       NaN|             NaN|    NaN|    NaN|      NaN|      NaN|      NaN|            NaN|    32.78|NaN|NaN|NaN|NaN|       NaN|      NaN| 56|     1|    1|    0|      -5.07|    17|          0|\n",
      "|p110001|  82|  100|36.1|  123|   96|  82|  15|  NaN|       NaN| NaN| NaN|NaN|  NaN| NaN|NaN|NaN|         NaN|    NaN|     NaN|       NaN|             NaN|    NaN|    NaN|      NaN|      NaN|      NaN|            NaN|      NaN|NaN|NaN|NaN|NaN|       NaN|      NaN| 56|     1|    1|    0|      -5.07|    18|          0|\n",
      "|p110001|  86|   99| NaN|   95|   69|  55|  12|  NaN|       NaN| NaN| NaN|NaN|  NaN| NaN|NaN|NaN|         NaN|    NaN|     NaN|       NaN|             NaN|    NaN|    NaN|      NaN|      NaN|      NaN|            NaN|      NaN|NaN|NaN|NaN|NaN|       NaN|      NaN| 56|     1|    1|    0|      -5.07|    19|          0|\n",
      "|p110001|  87|  100| NaN|  125|   97|  79|  12|  NaN|       NaN| NaN| NaN|NaN|  NaN| NaN|NaN|NaN|         NaN|    NaN|     NaN|       NaN|             NaN|    NaN|    NaN|      NaN|      NaN|      NaN|            NaN|      NaN|NaN|NaN|NaN|NaN|       NaN|      NaN| 56|     1|    1|    0|      -5.07|    20|          0|\n",
      "+-------+----+-----+----+-----+-----+----+----+-----+----------+----+----+---+-----+----+---+---+------------+-------+--------+----------+----------------+-------+-------+---------+---------+---------+---------------+---------+---+---+---+---+----------+---------+---+------+-----+-----+-----------+------+-----------+\n",
      "only showing top 20 rows\n",
      "\n"
     ]
    },
    {
     "ename": "Py4JJavaError",
     "evalue": "An error occurred while calling o159.save.\n: com.mysql.cj.jdbc.exceptions.CommunicationsException: Communications link failure\n\nThe last packet sent successfully to the server was 0 milliseconds ago. The driver has not received any packets from the server.\n\tat com.mysql.cj.jdbc.exceptions.SQLError.createCommunicationsException(SQLError.java:174)\n\tat com.mysql.cj.jdbc.exceptions.SQLExceptionsMapping.translateException(SQLExceptionsMapping.java:64)\n\tat com.mysql.cj.jdbc.ConnectionImpl.createNewIO(ConnectionImpl.java:836)\n\tat com.mysql.cj.jdbc.ConnectionImpl.<init>(ConnectionImpl.java:456)\n\tat com.mysql.cj.jdbc.ConnectionImpl.getInstance(ConnectionImpl.java:246)\n\tat com.mysql.cj.jdbc.NonRegisteringDriver.connect(NonRegisteringDriver.java:197)\n\tat org.apache.spark.sql.execution.datasources.jdbc.JdbcUtils$$anonfun$createConnectionFactory$1.apply(JdbcUtils.scala:61)\n\tat org.apache.spark.sql.execution.datasources.jdbc.JdbcUtils$$anonfun$createConnectionFactory$1.apply(JdbcUtils.scala:52)\n\tat org.apache.spark.sql.execution.datasources.jdbc.JdbcRelationProvider.createRelation(JdbcRelationProvider.scala:63)\n\tat org.apache.spark.sql.execution.datasources.DataSource.write(DataSource.scala:469)\n\tat org.apache.spark.sql.execution.datasources.SaveIntoDataSourceCommand.run(SaveIntoDataSourceCommand.scala:50)\n\tat org.apache.spark.sql.execution.command.ExecutedCommandExec.sideEffectResult$lzycompute(commands.scala:58)\n\tat org.apache.spark.sql.execution.command.ExecutedCommandExec.sideEffectResult(commands.scala:56)\n\tat org.apache.spark.sql.execution.command.ExecutedCommandExec.doExecute(commands.scala:74)\n\tat org.apache.spark.sql.execution.SparkPlan$$anonfun$execute$1.apply(SparkPlan.scala:117)\n\tat org.apache.spark.sql.execution.SparkPlan$$anonfun$execute$1.apply(SparkPlan.scala:117)\n\tat org.apache.spark.sql.execution.SparkPlan$$anonfun$executeQuery$1.apply(SparkPlan.scala:138)\n\tat org.apache.spark.rdd.RDDOperationScope$.withScope(RDDOperationScope.scala:151)\n\tat org.apache.spark.sql.execution.SparkPlan.executeQuery(SparkPlan.scala:135)\n\tat org.apache.spark.sql.execution.SparkPlan.execute(SparkPlan.scala:116)\n\tat org.apache.spark.sql.execution.QueryExecution.toRdd$lzycompute(QueryExecution.scala:92)\n\tat org.apache.spark.sql.execution.QueryExecution.toRdd(QueryExecution.scala:92)\n\tat org.apache.spark.sql.DataFrameWriter.runCommand(DataFrameWriter.scala:609)\n\tat org.apache.spark.sql.DataFrameWriter.save(DataFrameWriter.scala:233)\n\tat sun.reflect.NativeMethodAccessorImpl.invoke0(Native Method)\n\tat sun.reflect.NativeMethodAccessorImpl.invoke(NativeMethodAccessorImpl.java:62)\n\tat sun.reflect.DelegatingMethodAccessorImpl.invoke(DelegatingMethodAccessorImpl.java:43)\n\tat java.lang.reflect.Method.invoke(Method.java:498)\n\tat py4j.reflection.MethodInvoker.invoke(MethodInvoker.java:244)\n\tat py4j.reflection.ReflectionEngine.invoke(ReflectionEngine.java:357)\n\tat py4j.Gateway.invoke(Gateway.java:280)\n\tat py4j.commands.AbstractCommand.invokeMethod(AbstractCommand.java:132)\n\tat py4j.commands.CallCommand.execute(CallCommand.java:79)\n\tat py4j.GatewayConnection.run(GatewayConnection.java:214)\n\tat java.lang.Thread.run(Thread.java:748)\nCaused by: com.mysql.cj.exceptions.CJCommunicationsException: Communications link failure\n\nThe last packet sent successfully to the server was 0 milliseconds ago. The driver has not received any packets from the server.\n\tat sun.reflect.NativeConstructorAccessorImpl.newInstance0(Native Method)\n\tat sun.reflect.NativeConstructorAccessorImpl.newInstance(NativeConstructorAccessorImpl.java:62)\n\tat sun.reflect.DelegatingConstructorAccessorImpl.newInstance(DelegatingConstructorAccessorImpl.java:45)\n\tat java.lang.reflect.Constructor.newInstance(Constructor.java:423)\n\tat com.mysql.cj.exceptions.ExceptionFactory.createException(ExceptionFactory.java:61)\n\tat com.mysql.cj.exceptions.ExceptionFactory.createException(ExceptionFactory.java:105)\n\tat com.mysql.cj.exceptions.ExceptionFactory.createException(ExceptionFactory.java:151)\n\tat com.mysql.cj.exceptions.ExceptionFactory.createCommunicationsException(ExceptionFactory.java:167)\n\tat com.mysql.cj.protocol.a.NativeSocketConnection.connect(NativeSocketConnection.java:91)\n\tat com.mysql.cj.NativeSession.connect(NativeSession.java:144)\n\tat com.mysql.cj.jdbc.ConnectionImpl.connectOneTryOnly(ConnectionImpl.java:956)\n\tat com.mysql.cj.jdbc.ConnectionImpl.createNewIO(ConnectionImpl.java:826)\n\t... 32 more\nCaused by: java.net.NoRouteToHostException: No route to host (Host unreachable)\n\tat java.net.PlainSocketImpl.socketConnect(Native Method)\n\tat java.net.AbstractPlainSocketImpl.doConnect(AbstractPlainSocketImpl.java:350)\n\tat java.net.AbstractPlainSocketImpl.connectToAddress(AbstractPlainSocketImpl.java:206)\n\tat java.net.AbstractPlainSocketImpl.connect(AbstractPlainSocketImpl.java:188)\n\tat java.net.SocksSocketImpl.connect(SocksSocketImpl.java:392)\n\tat java.net.Socket.connect(Socket.java:589)\n\tat com.mysql.cj.protocol.StandardSocketFactory.connect(StandardSocketFactory.java:155)\n\tat com.mysql.cj.protocol.a.NativeSocketConnection.connect(NativeSocketConnection.java:65)\n\t... 35 more\n",
     "output_type": "error",
     "traceback": [
      "\u001b[0;31m---------------------------------------------------------------------------\u001b[0m",
      "\u001b[0;31mPy4JJavaError\u001b[0m                             Traceback (most recent call last)",
      "\u001b[0;32m<ipython-input-24-a274ec79e841>\u001b[0m in \u001b[0;36m<module>\u001b[0;34m\u001b[0m\n\u001b[1;32m     12\u001b[0m     \u001b[0mdbtable\u001b[0m\u001b[0;34m=\u001b[0m\u001b[0;34m'validate'\u001b[0m\u001b[0;34m,\u001b[0m\u001b[0;34m\u001b[0m\u001b[0m\n\u001b[1;32m     13\u001b[0m     \u001b[0muser\u001b[0m\u001b[0;34m=\u001b[0m\u001b[0;34m'root'\u001b[0m\u001b[0;34m,\u001b[0m\u001b[0;34m\u001b[0m\u001b[0m\n\u001b[0;32m---> 14\u001b[0;31m     password='Sepsis_Parkar_2020').mode('append').save()\n\u001b[0m",
      "\u001b[0;32m/opt/app-root/lib/python3.6/site-packages/pyspark/sql/readwriter.py\u001b[0m in \u001b[0;36msave\u001b[0;34m(self, path, format, mode, partitionBy, **options)\u001b[0m\n\u001b[1;32m    591\u001b[0m             \u001b[0mself\u001b[0m\u001b[0;34m.\u001b[0m\u001b[0mformat\u001b[0m\u001b[0;34m(\u001b[0m\u001b[0mformat\u001b[0m\u001b[0;34m)\u001b[0m\u001b[0;34m\u001b[0m\u001b[0m\n\u001b[1;32m    592\u001b[0m         \u001b[0;32mif\u001b[0m \u001b[0mpath\u001b[0m \u001b[0;32mis\u001b[0m \u001b[0;32mNone\u001b[0m\u001b[0;34m:\u001b[0m\u001b[0;34m\u001b[0m\u001b[0m\n\u001b[0;32m--> 593\u001b[0;31m             \u001b[0mself\u001b[0m\u001b[0;34m.\u001b[0m\u001b[0m_jwrite\u001b[0m\u001b[0;34m.\u001b[0m\u001b[0msave\u001b[0m\u001b[0;34m(\u001b[0m\u001b[0;34m)\u001b[0m\u001b[0;34m\u001b[0m\u001b[0m\n\u001b[0m\u001b[1;32m    594\u001b[0m         \u001b[0;32melse\u001b[0m\u001b[0;34m:\u001b[0m\u001b[0;34m\u001b[0m\u001b[0m\n\u001b[1;32m    595\u001b[0m             \u001b[0mself\u001b[0m\u001b[0;34m.\u001b[0m\u001b[0m_jwrite\u001b[0m\u001b[0;34m.\u001b[0m\u001b[0msave\u001b[0m\u001b[0;34m(\u001b[0m\u001b[0mpath\u001b[0m\u001b[0;34m)\u001b[0m\u001b[0;34m\u001b[0m\u001b[0m\n",
      "\u001b[0;32m/opt/app-root/lib/python3.6/site-packages/py4j/java_gateway.py\u001b[0m in \u001b[0;36m__call__\u001b[0;34m(self, *args)\u001b[0m\n\u001b[1;32m   1131\u001b[0m         \u001b[0manswer\u001b[0m \u001b[0;34m=\u001b[0m \u001b[0mself\u001b[0m\u001b[0;34m.\u001b[0m\u001b[0mgateway_client\u001b[0m\u001b[0;34m.\u001b[0m\u001b[0msend_command\u001b[0m\u001b[0;34m(\u001b[0m\u001b[0mcommand\u001b[0m\u001b[0;34m)\u001b[0m\u001b[0;34m\u001b[0m\u001b[0m\n\u001b[1;32m   1132\u001b[0m         return_value = get_return_value(\n\u001b[0;32m-> 1133\u001b[0;31m             answer, self.gateway_client, self.target_id, self.name)\n\u001b[0m\u001b[1;32m   1134\u001b[0m \u001b[0;34m\u001b[0m\u001b[0m\n\u001b[1;32m   1135\u001b[0m         \u001b[0;32mfor\u001b[0m \u001b[0mtemp_arg\u001b[0m \u001b[0;32min\u001b[0m \u001b[0mtemp_args\u001b[0m\u001b[0;34m:\u001b[0m\u001b[0;34m\u001b[0m\u001b[0m\n",
      "\u001b[0;32m/opt/app-root/lib/python3.6/site-packages/pyspark/sql/utils.py\u001b[0m in \u001b[0;36mdeco\u001b[0;34m(*a, **kw)\u001b[0m\n\u001b[1;32m     61\u001b[0m     \u001b[0;32mdef\u001b[0m \u001b[0mdeco\u001b[0m\u001b[0;34m(\u001b[0m\u001b[0;34m*\u001b[0m\u001b[0ma\u001b[0m\u001b[0;34m,\u001b[0m \u001b[0;34m**\u001b[0m\u001b[0mkw\u001b[0m\u001b[0;34m)\u001b[0m\u001b[0;34m:\u001b[0m\u001b[0;34m\u001b[0m\u001b[0m\n\u001b[1;32m     62\u001b[0m         \u001b[0;32mtry\u001b[0m\u001b[0;34m:\u001b[0m\u001b[0;34m\u001b[0m\u001b[0m\n\u001b[0;32m---> 63\u001b[0;31m             \u001b[0;32mreturn\u001b[0m \u001b[0mf\u001b[0m\u001b[0;34m(\u001b[0m\u001b[0;34m*\u001b[0m\u001b[0ma\u001b[0m\u001b[0;34m,\u001b[0m \u001b[0;34m**\u001b[0m\u001b[0mkw\u001b[0m\u001b[0;34m)\u001b[0m\u001b[0;34m\u001b[0m\u001b[0m\n\u001b[0m\u001b[1;32m     64\u001b[0m         \u001b[0;32mexcept\u001b[0m \u001b[0mpy4j\u001b[0m\u001b[0;34m.\u001b[0m\u001b[0mprotocol\u001b[0m\u001b[0;34m.\u001b[0m\u001b[0mPy4JJavaError\u001b[0m \u001b[0;32mas\u001b[0m \u001b[0me\u001b[0m\u001b[0;34m:\u001b[0m\u001b[0;34m\u001b[0m\u001b[0m\n\u001b[1;32m     65\u001b[0m             \u001b[0ms\u001b[0m \u001b[0;34m=\u001b[0m \u001b[0me\u001b[0m\u001b[0;34m.\u001b[0m\u001b[0mjava_exception\u001b[0m\u001b[0;34m.\u001b[0m\u001b[0mtoString\u001b[0m\u001b[0;34m(\u001b[0m\u001b[0;34m)\u001b[0m\u001b[0;34m\u001b[0m\u001b[0m\n",
      "\u001b[0;32m/opt/app-root/lib/python3.6/site-packages/py4j/protocol.py\u001b[0m in \u001b[0;36mget_return_value\u001b[0;34m(answer, gateway_client, target_id, name)\u001b[0m\n\u001b[1;32m    317\u001b[0m                 raise Py4JJavaError(\n\u001b[1;32m    318\u001b[0m                     \u001b[0;34m\"An error occurred while calling {0}{1}{2}.\\n\"\u001b[0m\u001b[0;34m.\u001b[0m\u001b[0;34m\u001b[0m\u001b[0m\n\u001b[0;32m--> 319\u001b[0;31m                     format(target_id, \".\", name), value)\n\u001b[0m\u001b[1;32m    320\u001b[0m             \u001b[0;32melse\u001b[0m\u001b[0;34m:\u001b[0m\u001b[0;34m\u001b[0m\u001b[0m\n\u001b[1;32m    321\u001b[0m                 raise Py4JError(\n",
      "\u001b[0;31mPy4JJavaError\u001b[0m: An error occurred while calling o159.save.\n: com.mysql.cj.jdbc.exceptions.CommunicationsException: Communications link failure\n\nThe last packet sent successfully to the server was 0 milliseconds ago. The driver has not received any packets from the server.\n\tat com.mysql.cj.jdbc.exceptions.SQLError.createCommunicationsException(SQLError.java:174)\n\tat com.mysql.cj.jdbc.exceptions.SQLExceptionsMapping.translateException(SQLExceptionsMapping.java:64)\n\tat com.mysql.cj.jdbc.ConnectionImpl.createNewIO(ConnectionImpl.java:836)\n\tat com.mysql.cj.jdbc.ConnectionImpl.<init>(ConnectionImpl.java:456)\n\tat com.mysql.cj.jdbc.ConnectionImpl.getInstance(ConnectionImpl.java:246)\n\tat com.mysql.cj.jdbc.NonRegisteringDriver.connect(NonRegisteringDriver.java:197)\n\tat org.apache.spark.sql.execution.datasources.jdbc.JdbcUtils$$anonfun$createConnectionFactory$1.apply(JdbcUtils.scala:61)\n\tat org.apache.spark.sql.execution.datasources.jdbc.JdbcUtils$$anonfun$createConnectionFactory$1.apply(JdbcUtils.scala:52)\n\tat org.apache.spark.sql.execution.datasources.jdbc.JdbcRelationProvider.createRelation(JdbcRelationProvider.scala:63)\n\tat org.apache.spark.sql.execution.datasources.DataSource.write(DataSource.scala:469)\n\tat org.apache.spark.sql.execution.datasources.SaveIntoDataSourceCommand.run(SaveIntoDataSourceCommand.scala:50)\n\tat org.apache.spark.sql.execution.command.ExecutedCommandExec.sideEffectResult$lzycompute(commands.scala:58)\n\tat org.apache.spark.sql.execution.command.ExecutedCommandExec.sideEffectResult(commands.scala:56)\n\tat org.apache.spark.sql.execution.command.ExecutedCommandExec.doExecute(commands.scala:74)\n\tat org.apache.spark.sql.execution.SparkPlan$$anonfun$execute$1.apply(SparkPlan.scala:117)\n\tat org.apache.spark.sql.execution.SparkPlan$$anonfun$execute$1.apply(SparkPlan.scala:117)\n\tat org.apache.spark.sql.execution.SparkPlan$$anonfun$executeQuery$1.apply(SparkPlan.scala:138)\n\tat org.apache.spark.rdd.RDDOperationScope$.withScope(RDDOperationScope.scala:151)\n\tat org.apache.spark.sql.execution.SparkPlan.executeQuery(SparkPlan.scala:135)\n\tat org.apache.spark.sql.execution.SparkPlan.execute(SparkPlan.scala:116)\n\tat org.apache.spark.sql.execution.QueryExecution.toRdd$lzycompute(QueryExecution.scala:92)\n\tat org.apache.spark.sql.execution.QueryExecution.toRdd(QueryExecution.scala:92)\n\tat org.apache.spark.sql.DataFrameWriter.runCommand(DataFrameWriter.scala:609)\n\tat org.apache.spark.sql.DataFrameWriter.save(DataFrameWriter.scala:233)\n\tat sun.reflect.NativeMethodAccessorImpl.invoke0(Native Method)\n\tat sun.reflect.NativeMethodAccessorImpl.invoke(NativeMethodAccessorImpl.java:62)\n\tat sun.reflect.DelegatingMethodAccessorImpl.invoke(DelegatingMethodAccessorImpl.java:43)\n\tat java.lang.reflect.Method.invoke(Method.java:498)\n\tat py4j.reflection.MethodInvoker.invoke(MethodInvoker.java:244)\n\tat py4j.reflection.ReflectionEngine.invoke(ReflectionEngine.java:357)\n\tat py4j.Gateway.invoke(Gateway.java:280)\n\tat py4j.commands.AbstractCommand.invokeMethod(AbstractCommand.java:132)\n\tat py4j.commands.CallCommand.execute(CallCommand.java:79)\n\tat py4j.GatewayConnection.run(GatewayConnection.java:214)\n\tat java.lang.Thread.run(Thread.java:748)\nCaused by: com.mysql.cj.exceptions.CJCommunicationsException: Communications link failure\n\nThe last packet sent successfully to the server was 0 milliseconds ago. The driver has not received any packets from the server.\n\tat sun.reflect.NativeConstructorAccessorImpl.newInstance0(Native Method)\n\tat sun.reflect.NativeConstructorAccessorImpl.newInstance(NativeConstructorAccessorImpl.java:62)\n\tat sun.reflect.DelegatingConstructorAccessorImpl.newInstance(DelegatingConstructorAccessorImpl.java:45)\n\tat java.lang.reflect.Constructor.newInstance(Constructor.java:423)\n\tat com.mysql.cj.exceptions.ExceptionFactory.createException(ExceptionFactory.java:61)\n\tat com.mysql.cj.exceptions.ExceptionFactory.createException(ExceptionFactory.java:105)\n\tat com.mysql.cj.exceptions.ExceptionFactory.createException(ExceptionFactory.java:151)\n\tat com.mysql.cj.exceptions.ExceptionFactory.createCommunicationsException(ExceptionFactory.java:167)\n\tat com.mysql.cj.protocol.a.NativeSocketConnection.connect(NativeSocketConnection.java:91)\n\tat com.mysql.cj.NativeSession.connect(NativeSession.java:144)\n\tat com.mysql.cj.jdbc.ConnectionImpl.connectOneTryOnly(ConnectionImpl.java:956)\n\tat com.mysql.cj.jdbc.ConnectionImpl.createNewIO(ConnectionImpl.java:826)\n\t... 32 more\nCaused by: java.net.NoRouteToHostException: No route to host (Host unreachable)\n\tat java.net.PlainSocketImpl.socketConnect(Native Method)\n\tat java.net.AbstractPlainSocketImpl.doConnect(AbstractPlainSocketImpl.java:350)\n\tat java.net.AbstractPlainSocketImpl.connectToAddress(AbstractPlainSocketImpl.java:206)\n\tat java.net.AbstractPlainSocketImpl.connect(AbstractPlainSocketImpl.java:188)\n\tat java.net.SocksSocketImpl.connect(SocksSocketImpl.java:392)\n\tat java.net.Socket.connect(Socket.java:589)\n\tat com.mysql.cj.protocol.StandardSocketFactory.connect(StandardSocketFactory.java:155)\n\tat com.mysql.cj.protocol.a.NativeSocketConnection.connect(NativeSocketConnection.java:65)\n\t... 35 more\n"
     ]
    }
   ],
   "source": [
    "import os\n",
    "os.environ['PYSPARK_SUBMIT_ARGS'] = '--jars file:/opt/app-root/lib/python3.6/site-packages/pyspark/jars/mysql-connector-java-8.0.21.jar pyspark-shell'\n",
    "\n",
    "output = scSpark.sql('SELECT * from validate')\n",
    "output.show()\n",
    "output.write.format('jdbc').options(\n",
    "    url='jdbc:mysql://10.128.1.138/sepsis',\n",
    "    #driver='com.mysql.jdbc.Driver',\n",
    "    driver='com.mysql.cj.jdbc.Driver',\n",
    "    #driver='mysql-connector-java.Driver',\n",
    "    #driver='mysql-connector-python',\n",
    "    dbtable='validate',\n",
    "    user='root',\n",
    "    password='Sepsis_Parkar_2020').mode('append').save()"
   ]
  },
  {
   "cell_type": "code",
   "execution_count": null,
   "metadata": {},
   "outputs": [],
   "source": []
  }
 ],
 "metadata": {
  "kernelspec": {
   "display_name": "Python 3",
   "language": "python",
   "name": "python3"
  },
  "language_info": {
   "codemirror_mode": {
    "name": "ipython",
    "version": 3
   },
   "file_extension": ".py",
   "mimetype": "text/x-python",
   "name": "python",
   "nbconvert_exporter": "python",
   "pygments_lexer": "ipython3",
   "version": "3.6.3"
  }
 },
 "nbformat": 4,
 "nbformat_minor": 2
}
