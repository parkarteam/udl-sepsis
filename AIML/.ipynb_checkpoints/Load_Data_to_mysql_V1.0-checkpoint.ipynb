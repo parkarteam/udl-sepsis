{
 "cells": [
  {
   "cell_type": "code",
   "execution_count": null,
   "metadata": {},
   "outputs": [],
   "source": [
    "from pyspark.sql import SparkSession\n",
    "from pyspark.sql import SQLContext"
   ]
  },
  {
   "cell_type": "code",
   "execution_count": 5,
   "metadata": {},
   "outputs": [
    {
     "name": "stdout",
     "output_type": "stream",
     "text": [
      "Total Records = 1168686\n",
      "+-------+---+-----+-----+---+-----+---+----+-----+----------+----+----+----+-----+----+---+---+------------+-------+--------+----------+----------------+-------+-------+---------+---------+---------+---------------+---------+----+----+---+---+----------+---------+-----+------+-----+-----+-----------+------+-----------+\n",
      "|    PID| HR|O2Sat| Temp|SBP|  MAP|DBP|Resp|EtCO2|BaseExcess|HCO3|FiO2|  pH|PaCO2|SaO2|AST|BUN|Alkalinephos|Calcium|Chloride|Creatinine|Bilirubin_direct|Glucose|Lactate|Magnesium|Phosphate|Potassium|Bilirubin_total|TroponinI| Hct| Hgb|PTT|WBC|Fibrinogen|Platelets|  Age|Gender|Unit1|Unit2|HospAdmTime|ICULOS|SepsisLabel|\n",
      "+-------+---+-----+-----+---+-----+---+----+-----+----------+----+----+----+-----+----+---+---+------------+-------+--------+----------+----------------+-------+-------+---------+---------+---------+---------------+---------+----+----+---+---+----------+---------+-----+------+-----+-----+-----------+------+-----------+\n",
      "|p000001|NaN|  NaN|  NaN|NaN|  NaN|NaN| NaN|  NaN|       NaN| NaN| NaN| NaN|  NaN| NaN|NaN|NaN|         NaN|    NaN|     NaN|       NaN|             NaN|    NaN|    NaN|      NaN|      NaN|      NaN|            NaN|      NaN| NaN| NaN|NaN|NaN|       NaN|      NaN|83.14|     0|  NaN|  NaN|      -0.03|     1|          0|\n",
      "|p000001| 97|   95|  NaN| 98|75.33|NaN|  19|  NaN|       NaN| NaN| NaN| NaN|  NaN| NaN|NaN|NaN|         NaN|    NaN|     NaN|       NaN|             NaN|    NaN|    NaN|      NaN|      NaN|      NaN|            NaN|      NaN| NaN| NaN|NaN|NaN|       NaN|      NaN|83.14|     0|  NaN|  NaN|      -0.03|     2|          0|\n",
      "|p000001| 89|   99|  NaN|122|   86|NaN|  22|  NaN|       NaN| NaN| NaN| NaN|  NaN| NaN|NaN|NaN|         NaN|    NaN|     NaN|       NaN|             NaN|    NaN|    NaN|      NaN|      NaN|      NaN|            NaN|      NaN| NaN| NaN|NaN|NaN|       NaN|      NaN|83.14|     0|  NaN|  NaN|      -0.03|     3|          0|\n",
      "|p000001| 90|   95|  NaN|NaN|  NaN|NaN|  30|  NaN|        24| NaN| NaN|7.36|  100| NaN|NaN|NaN|         NaN|    NaN|     NaN|       NaN|             NaN|    NaN|    NaN|      NaN|      NaN|      NaN|            NaN|      NaN| NaN| NaN|NaN|NaN|       NaN|      NaN|83.14|     0|  NaN|  NaN|      -0.03|     4|          0|\n",
      "|p000001|103| 88.5|  NaN|122|91.33|NaN|24.5|  NaN|       NaN| NaN|0.28| NaN|  NaN| NaN|NaN|NaN|         NaN|    NaN|     NaN|       NaN|             NaN|    NaN|    NaN|      NaN|      NaN|      NaN|            NaN|      NaN| NaN| NaN|NaN|NaN|       NaN|      NaN|83.14|     0|  NaN|  NaN|      -0.03|     5|          0|\n",
      "|p000001|110|   91|  NaN|NaN|  NaN|NaN|  22|  NaN|       NaN| NaN| NaN| NaN|  NaN| NaN|NaN|NaN|         NaN|    NaN|     NaN|       NaN|             NaN|    NaN|    NaN|      NaN|      NaN|      NaN|            NaN|      NaN| NaN| NaN|NaN|NaN|       NaN|      NaN|83.14|     0|  NaN|  NaN|      -0.03|     6|          0|\n",
      "|p000001|108|   92|36.11|123|   77|NaN|  29|  NaN|       NaN| NaN| NaN| NaN|  NaN| NaN|NaN|NaN|         NaN|    NaN|     NaN|       NaN|             NaN|    NaN|    NaN|      NaN|      NaN|      NaN|            NaN|      NaN| NaN| NaN|NaN|NaN|       NaN|      NaN|83.14|     0|  NaN|  NaN|      -0.03|     7|          0|\n",
      "|p000001|106| 90.5|  NaN| 93|76.33|NaN|  29|  NaN|       NaN| NaN| NaN| NaN|  NaN| NaN|NaN|NaN|         NaN|    NaN|     NaN|       NaN|             NaN|    NaN|    NaN|      NaN|      NaN|      NaN|            NaN|      NaN| NaN| NaN|NaN|NaN|       NaN|      NaN|83.14|     0|  NaN|  NaN|      -0.03|     8|          0|\n",
      "|p000001|104|   95|  NaN|133|88.33|NaN|  26|  NaN|       NaN| NaN| NaN| NaN|  NaN| NaN|NaN|NaN|         NaN|    NaN|     NaN|       NaN|             NaN|    NaN|    NaN|      NaN|      NaN|      NaN|            NaN|      NaN| NaN| NaN|NaN|NaN|       NaN|      NaN|83.14|     0|  NaN|  NaN|      -0.03|     9|          0|\n",
      "|p000001|102|   91|  NaN|134|87.33|NaN|  30|  NaN|       NaN| NaN| NaN| NaN|  NaN| NaN|NaN|NaN|         NaN|    NaN|     NaN|       NaN|             NaN|    NaN|    NaN|      NaN|      NaN|      NaN|            NaN|      NaN| NaN| NaN|NaN|NaN|       NaN|      NaN|83.14|     0|  NaN|  NaN|      -0.03|    10|          0|\n",
      "|p000001|104|   92|37.17|138|86.67|NaN|  19|  NaN|        23| NaN| NaN| 7.4|   86|  88|NaN|NaN|         NaN|    NaN|     NaN|       NaN|             NaN|    NaN|    NaN|      NaN|      NaN|      NaN|            NaN|      NaN| NaN| NaN|NaN|NaN|       NaN|      NaN|83.14|     0|  NaN|  NaN|      -0.03|    11|          0|\n",
      "|p000001|NaN|  NaN|  NaN|NaN|  NaN|NaN| NaN|  NaN|       NaN| NaN| NaN| NaN|  NaN| NaN|NaN|NaN|         NaN|    NaN|     NaN|       NaN|             NaN|    NaN|    NaN|      NaN|      NaN|      NaN|            NaN|      NaN| NaN| NaN|NaN|NaN|       NaN|      NaN|83.14|     0|  NaN|  NaN|      -0.03|    12|          0|\n",
      "|p000001|102|   93|  NaN|129|   77|NaN|  24|  NaN|       NaN| NaN| NaN| NaN|  NaN| NaN|NaN|NaN|         NaN|    NaN|     NaN|       NaN|             NaN|    NaN|    NaN|      NaN|      NaN|      NaN|            NaN|      NaN| NaN| NaN|NaN|NaN|       NaN|      NaN|83.14|     0|  NaN|  NaN|      -0.03|    13|          0|\n",
      "|p000001|108|   90|  NaN|122|96.67|NaN|  27|  NaN|       NaN| NaN| NaN| NaN|  NaN| NaN|NaN|NaN|         NaN|    NaN|     NaN|       NaN|             NaN|    NaN|    NaN|      NaN|      NaN|      NaN|            NaN|      NaN| NaN| NaN|NaN|NaN|       NaN|      NaN|83.14|     0|  NaN|  NaN|      -0.03|    14|          0|\n",
      "|p000001|106|   90|  NaN|NaN|  NaN|NaN|  25|  NaN|       NaN| NaN| NaN| NaN|  NaN| NaN|NaN|NaN|         NaN|    NaN|     NaN|       NaN|             NaN|    NaN|    NaN|      NaN|      NaN|      NaN|            NaN|      NaN| NaN| NaN|NaN|NaN|       NaN|      NaN|83.14|     0|  NaN|  NaN|      -0.03|    15|          0|\n",
      "|p000001|109|   91|36.56|132|96.67|NaN|  24|  NaN|       NaN| NaN| NaN| NaN|  NaN| NaN|NaN|NaN|         NaN|    NaN|     NaN|       NaN|             NaN|    NaN|    NaN|      NaN|      NaN|      NaN|            NaN|      NaN| NaN| NaN|NaN|NaN|       NaN|      NaN|83.14|     0|  NaN|  NaN|      -0.03|    16|          0|\n",
      "|p000001|103|   90|  NaN|NaN|  NaN|NaN|  30|  NaN|        21|  45| NaN|7.37|   90|  91| 16| 14|          98|    9.3|      85|       0.7|             NaN|    193|    NaN|        2|      3.3|      3.8|            0.3|      NaN|37.2|12.5|NaN|5.7|       NaN|      317|83.14|     0|  NaN|  NaN|      -0.03|    17|          0|\n",
      "|p000001|104|   92|  NaN|132|81.33|NaN|  28|  NaN|       NaN| NaN| NaN| NaN|  NaN| NaN|NaN|NaN|         NaN|    NaN|     NaN|       NaN|             NaN|    NaN|    NaN|      NaN|      NaN|      NaN|            NaN|      NaN| NaN| NaN|NaN|NaN|       NaN|      NaN|83.14|     0|  NaN|  NaN|      -0.03|    18|          0|\n",
      "|p000001|NaN|  NaN|  NaN|NaN|  NaN|NaN| NaN|  NaN|       NaN| NaN| NaN| NaN|  NaN| NaN|NaN|NaN|         NaN|    NaN|     NaN|       NaN|             NaN|    NaN|    NaN|      NaN|      NaN|      NaN|            NaN|      NaN| NaN| NaN|NaN|NaN|       NaN|      NaN|83.14|     0|  NaN|  NaN|      -0.03|    19|          0|\n",
      "|p000001|109|   91|37.11|147|   91|NaN|  22|  NaN|       NaN| NaN| NaN| NaN|  NaN| NaN|NaN|NaN|         NaN|    NaN|     NaN|       NaN|             NaN|    NaN|    NaN|      NaN|      NaN|      NaN|            NaN|      NaN| NaN| NaN|NaN|NaN|       NaN|      NaN|83.14|     0|  NaN|  NaN|      -0.03|    20|          0|\n",
      "+-------+---+-----+-----+---+-----+---+----+-----+----------+----+----+----+-----+----+---+---+------------+-------+--------+----------+----------------+-------+-------+---------+---------+---------+---------------+---------+----+----+---+---+----------+---------+-----+------+-----+-----+-----------+------+-----------+\n",
      "only showing top 20 rows\n",
      "\n"
     ]
    }
   ],
   "source": [
    "if __name__ == '__main__':\n",
    "    scSpark = SparkSession \\\n",
    "        .builder \\\n",
    "        .appName(\"reading csv\") \\\n",
    "        .getOrCreate()\n",
    "    \n",
    "data_file = '/opt/app-root/src/data/train.psv'\n",
    "sdfData = scSpark.read.csv(data_file, header=True, sep=\"|\").cache()\n",
    "print('Total Records = {}'.format(sdfData.count()))\n",
    "sdfData.show()"
   ]
  },
  {
   "cell_type": "code",
   "execution_count": null,
   "metadata": {},
   "outputs": [],
   "source": [
    "sdfData.registerTempTable(\"train\")\n",
    "output =  scSpark.sql('SELECT count(*) from train')\n",
    "output.show()"
   ]
  },
  {
   "cell_type": "code",
   "execution_count": null,
   "metadata": {},
   "outputs": [],
   "source": [
    "import os\n",
    "os.environ['PYSPARK_SUBMIT_ARGS'] = '--packages mysql:mysql-connector-java:jar:8.0.21 pyspark-shell'\n",
    "\n",
    "output = scSpark.sql('SELECT * from train')\n",
    "output.show()\n",
    "output.write.format('jdbc').options(\n",
    "    url='jdbc:mysql://10.128.1.138/sepsis',\n",
    "    driver='com.mysql.jdbc.Driver',\n",
    "    #driver='com.mysql.cj.jdbc.Driver',\n",
    "    #driver='mysql-connector-java.Driver',\n",
    "    #driver='mysql-connector-python',\n",
    "    dbtable='train',\n",
    "    user='root',\n",
    "    password='Sepsis_Parkar_2020').mode('append').save()"
   ]
  },
  {
   "cell_type": "code",
   "execution_count": null,
   "metadata": {},
   "outputs": [],
   "source": [
    "data_file1 = '/opt/app-root/src/data/test.psv'\n",
    "sdfData1 = scSpark.read.csv(data_file1, header=True, sep=\"|\").cache()\n",
    "print('Total Records = {}'.format(sdfData1.count()))\n",
    "sdfData.show()"
   ]
  },
  {
   "cell_type": "code",
   "execution_count": null,
   "metadata": {},
   "outputs": [],
   "source": [
    "sdfData1.registerTempTable(\"test\")\n",
    "output =  scSpark.sql('SELECT count(*) from test')\n",
    "output.show()"
   ]
  },
  {
   "cell_type": "code",
   "execution_count": null,
   "metadata": {},
   "outputs": [],
   "source": [
    "import os\n",
    "os.environ['PYSPARK_SUBMIT_ARGS'] = '--jars file:/opt/app-root/lib/python3.6/site-packages/pyspark/jars/mysql-connector-java-8.0.21.jar pyspark-shell'\n",
    "\n",
    "output = scSpark.sql('SELECT * from test')\n",
    "output.show()\n",
    "output.write.format('jdbc').options(\n",
    "    url='jdbc:mysql://10.128.1.138/sepsis',\n",
    "    #driver='com.mysql.jdbc.Driver',\n",
    "    driver='com.mysql.cj.jdbc.Driver',\n",
    "    #driver='mysql-connector-java.Driver',\n",
    "    #driver='mysql-connector-python',\n",
    "    dbtable='test',\n",
    "    user='root',\n",
    "    password='Sepsis_Parkar_2020').mode('append').save()"
   ]
  },
  {
   "cell_type": "code",
   "execution_count": 6,
   "metadata": {},
   "outputs": [
    {
     "name": "stdout",
     "output_type": "stream",
     "text": [
      "Total Records = 193026\n"
     ]
    }
   ],
   "source": [
    "data_file2 = '/opt/app-root/src/data/validation.psv'\n",
    "sdfData2 = scSpark.read.csv(data_file2, header=True, sep=\"|\").cache()\n",
    "print('Total Records = {}'.format(sdfData2.count()))"
   ]
  },
  {
   "cell_type": "code",
   "execution_count": 7,
   "metadata": {},
   "outputs": [
    {
     "name": "stdout",
     "output_type": "stream",
     "text": [
      "+--------+\n",
      "|count(1)|\n",
      "+--------+\n",
      "|  193026|\n",
      "+--------+\n",
      "\n"
     ]
    }
   ],
   "source": [
    "sdfData2.registerTempTable(\"validate\")\n",
    "output =  scSpark.sql('SELECT count(*) from validate')\n",
    "output.show()"
   ]
  },
  {
   "cell_type": "code",
   "execution_count": 8,
   "metadata": {},
   "outputs": [
    {
     "name": "stdout",
     "output_type": "stream",
     "text": [
      "+-------+----+-----+----+-----+-----+----+----+-----+----------+----+----+---+-----+----+---+---+------------+-------+--------+----------+----------------+-------+-------+---------+---------+---------+---------------+---------+---+---+---+---+----------+---------+---+------+-----+-----+-----------+------+-----------+\n",
      "|    PID|  HR|O2Sat|Temp|  SBP|  MAP| DBP|Resp|EtCO2|BaseExcess|HCO3|FiO2| pH|PaCO2|SaO2|AST|BUN|Alkalinephos|Calcium|Chloride|Creatinine|Bilirubin_direct|Glucose|Lactate|Magnesium|Phosphate|Potassium|Bilirubin_total|TroponinI|Hct|Hgb|PTT|WBC|Fibrinogen|Platelets|Age|Gender|Unit1|Unit2|HospAdmTime|ICULOS|SepsisLabel|\n",
      "+-------+----+-----+----+-----+-----+----+----+-----+----------+----+----+---+-----+----+---+---+------------+-------+--------+----------+----------------+-------+-------+---------+---------+---------+---------------+---------+---+---+---+---+----------+---------+---+------+-----+-----+-----------+------+-----------+\n",
      "|p110001| NaN|  NaN| NaN|  NaN|  NaN| NaN| NaN|  NaN|       NaN| NaN| NaN|NaN|  NaN| NaN|NaN|NaN|         NaN|    NaN|     NaN|       NaN|             NaN|    NaN|    NaN|      NaN|      NaN|      NaN|            NaN|      NaN|NaN|NaN|NaN|NaN|       NaN|      NaN| 56|     1|    1|    0|      -5.07|     1|          0|\n",
      "|p110001|97.5|   98|36.3|146.5|  114|  91|  24|  NaN|       NaN| NaN| NaN|NaN|  NaN| NaN|NaN|NaN|         NaN|    NaN|     NaN|       NaN|             NaN|    NaN|    NaN|      NaN|      NaN|      NaN|            NaN|      NaN|NaN|NaN|NaN|NaN|       NaN|      NaN| 56|     1|    1|    0|      -5.07|     2|          0|\n",
      "|p110001|  93|  100| NaN|145.5|  111|88.5|  18|  NaN|       NaN| NaN| NaN|NaN|  NaN| NaN|NaN|NaN|         NaN|    NaN|     NaN|       NaN|             NaN|    NaN|    NaN|      NaN|      NaN|      NaN|            NaN|    11.59|NaN|NaN|NaN|NaN|       NaN|      NaN| 56|     1|    1|    0|      -5.07|     3|          0|\n",
      "|p110001|  87|  100| NaN|  142|  109|  87|  20|  NaN|       NaN| NaN| NaN|NaN|  NaN| NaN|NaN|NaN|         NaN|    NaN|     NaN|       NaN|             NaN|    NaN|    NaN|      NaN|      NaN|      NaN|            NaN|      NaN|NaN|NaN|NaN|NaN|       NaN|      NaN| 56|     1|    1|    0|      -5.07|     4|          0|\n",
      "|p110001|93.5| 99.5| NaN|134.5|106.5|  87|  20|  NaN|       NaN| NaN| NaN|NaN|  NaN| NaN|NaN|NaN|         NaN|    NaN|     NaN|       NaN|             NaN|    NaN|    NaN|      NaN|      NaN|      NaN|            NaN|      NaN|NaN|NaN|NaN|NaN|       NaN|      NaN| 56|     1|    1|    0|      -5.07|     5|          0|\n",
      "|p110001|  90|  100| NaN|  NaN|  NaN| NaN| NaN|  NaN|       NaN| NaN| NaN|NaN|  NaN| NaN|NaN|NaN|         NaN|    NaN|     NaN|       NaN|             NaN|    NaN|    NaN|      NaN|      NaN|      NaN|            NaN|      NaN|NaN|NaN|NaN|NaN|       NaN|      NaN| 56|     1|    1|    0|      -5.07|     6|          0|\n",
      "|p110001| NaN|  NaN| NaN|  NaN|  NaN| NaN| NaN|  NaN|       NaN| NaN| NaN|NaN|  NaN| NaN|NaN|NaN|         NaN|    NaN|     NaN|       NaN|             NaN|    NaN|    NaN|      NaN|      NaN|      NaN|            NaN|      NaN|NaN|NaN|NaN|NaN|       NaN|      NaN| 56|     1|    1|    0|      -5.07|     7|          0|\n",
      "|p110001| NaN|  NaN| NaN|  NaN|  NaN| NaN| NaN|  NaN|       NaN| NaN| NaN|NaN|  NaN| NaN|NaN|NaN|         NaN|    NaN|     NaN|       NaN|             NaN|    NaN|    NaN|      NaN|      NaN|      NaN|            NaN|      NaN|NaN|NaN|NaN|NaN|       NaN|      NaN| 56|     1|    1|    0|      -5.07|     8|          0|\n",
      "|p110001|81.5| 99.5|35.2|134.5|101.5|  83|  15|  NaN|       NaN| NaN| NaN|NaN|  NaN| NaN|NaN|NaN|         NaN|    NaN|     NaN|       NaN|             NaN|    NaN|    NaN|      NaN|      NaN|      NaN|            NaN|      NaN|NaN|NaN|NaN|NaN|       NaN|      NaN| 56|     1|    1|    0|      -5.07|     9|          0|\n",
      "|p110001|  76|  NaN| NaN|  156|  NaN|  87|  20|  NaN|       NaN| NaN| NaN|NaN|  NaN| NaN|NaN|NaN|         NaN|    NaN|     NaN|       NaN|             NaN|    NaN|    NaN|      NaN|      NaN|      NaN|            NaN|      NaN|NaN|NaN|NaN|NaN|       NaN|      NaN| 56|     1|    1|    0|      -5.07|    10|          0|\n",
      "|p110001|89.5| 99.5|35.8|101.5| 75.5|64.5| NaN|  NaN|       NaN| NaN| NaN|NaN|  NaN| NaN|NaN|NaN|         NaN|    NaN|     NaN|       NaN|             NaN|    NaN|    NaN|      NaN|      NaN|      NaN|            NaN|      NaN|NaN|NaN|NaN|NaN|       NaN|      NaN| 56|     1|    1|    0|      -5.07|    11|          0|\n",
      "|p110001|  88|   96| NaN|  122| 88.5|  71| NaN|  NaN|       NaN| NaN| NaN|NaN|  NaN| NaN|NaN|NaN|         NaN|    NaN|     NaN|       NaN|             NaN|    NaN|    NaN|      NaN|      NaN|      NaN|            NaN|      NaN|NaN|NaN|NaN|NaN|       NaN|      NaN| 56|     1|    1|    0|      -5.07|    12|          0|\n",
      "|p110001|  96| 96.5|35.5|  120|   99|73.5| NaN|  NaN|       NaN| NaN| NaN|NaN|  NaN| NaN|NaN| 25|         NaN|    8.2|     NaN|      6.09|             NaN|    108|    NaN|      NaN|      NaN|      3.5|            NaN|     27.8|NaN|NaN|NaN|NaN|       NaN|      NaN| 56|     1|    1|    0|      -5.07|    13|          0|\n",
      "|p110001|  91| 96.5|36.3|  122|   91|  73|  15|  NaN|       NaN| NaN| NaN|NaN|  NaN| NaN|NaN|NaN|         NaN|    NaN|     NaN|       NaN|             NaN|    NaN|    NaN|      NaN|      NaN|      NaN|            NaN|      NaN|NaN|NaN|NaN|NaN|       NaN|      NaN| 56|     1|    1|    0|      -5.07|    14|          0|\n",
      "|p110001|  88|   99| NaN|  118|   82|  64|  11|  NaN|       NaN| NaN| NaN|NaN|  NaN| NaN|NaN|NaN|         NaN|    NaN|     NaN|       NaN|             NaN|    NaN|    NaN|      NaN|      NaN|      NaN|            NaN|      NaN|NaN|NaN|NaN|NaN|       NaN|      NaN| 56|     1|    1|    0|      -5.07|    15|          0|\n",
      "|p110001|84.5|   99| NaN|131.5| 99.5|79.5|  21|  NaN|       NaN| NaN| NaN|NaN|  NaN| NaN|NaN|NaN|         NaN|    NaN|     NaN|       NaN|             NaN|    NaN|    NaN|      NaN|      NaN|      NaN|            NaN|      NaN|NaN|NaN|NaN|NaN|       NaN|      NaN| 56|     1|    1|    0|      -5.07|    16|          0|\n",
      "|p110001|85.5| 99.5| NaN|114.5|   90|  74|13.5|  NaN|       NaN| NaN| NaN|NaN|  NaN| NaN|NaN|NaN|         NaN|    NaN|     NaN|       NaN|             NaN|    NaN|    NaN|      NaN|      NaN|      NaN|            NaN|    32.78|NaN|NaN|NaN|NaN|       NaN|      NaN| 56|     1|    1|    0|      -5.07|    17|          0|\n",
      "|p110001|  82|  100|36.1|  123|   96|  82|  15|  NaN|       NaN| NaN| NaN|NaN|  NaN| NaN|NaN|NaN|         NaN|    NaN|     NaN|       NaN|             NaN|    NaN|    NaN|      NaN|      NaN|      NaN|            NaN|      NaN|NaN|NaN|NaN|NaN|       NaN|      NaN| 56|     1|    1|    0|      -5.07|    18|          0|\n",
      "|p110001|  86|   99| NaN|   95|   69|  55|  12|  NaN|       NaN| NaN| NaN|NaN|  NaN| NaN|NaN|NaN|         NaN|    NaN|     NaN|       NaN|             NaN|    NaN|    NaN|      NaN|      NaN|      NaN|            NaN|      NaN|NaN|NaN|NaN|NaN|       NaN|      NaN| 56|     1|    1|    0|      -5.07|    19|          0|\n",
      "|p110001|  87|  100| NaN|  125|   97|  79|  12|  NaN|       NaN| NaN| NaN|NaN|  NaN| NaN|NaN|NaN|         NaN|    NaN|     NaN|       NaN|             NaN|    NaN|    NaN|      NaN|      NaN|      NaN|            NaN|      NaN|NaN|NaN|NaN|NaN|       NaN|      NaN| 56|     1|    1|    0|      -5.07|    20|          0|\n",
      "+-------+----+-----+----+-----+-----+----+----+-----+----------+----+----+---+-----+----+---+---+------------+-------+--------+----------+----------------+-------+-------+---------+---------+---------+---------------+---------+---+---+---+---+----------+---------+---+------+-----+-----+-----------+------+-----------+\n",
      "only showing top 20 rows\n",
      "\n"
     ]
    }
   ],
   "source": [
    "import os\n",
    "os.environ['PYSPARK_SUBMIT_ARGS'] = '--jars file:/opt/app-root/lib/python3.6/site-packages/pyspark/jars/mysql-connector-java-8.0.21.jar pyspark-shell'\n",
    "\n",
    "output = scSpark.sql('SELECT * from validate')\n",
    "output.show()\n",
    "output.write.format('jdbc').options(\n",
    "    url='jdbc:mysql://10.128.1.138/sepsis',\n",
    "    #driver='com.mysql.jdbc.Driver',\n",
    "    driver='com.mysql.cj.jdbc.Driver',\n",
    "    #driver='mysql-connector-java.Driver',\n",
    "    #driver='mysql-connector-python',\n",
    "    dbtable='validate',\n",
    "    user='root',\n",
    "    password='Sepsis_Parkar_2020').mode('append').save()"
   ]
  },
  {
   "cell_type": "code",
   "execution_count": null,
   "metadata": {},
   "outputs": [],
   "source": []
  }
 ],
 "metadata": {
  "kernelspec": {
   "display_name": "Python 3",
   "language": "python",
   "name": "python3"
  },
  "language_info": {
   "codemirror_mode": {
    "name": "ipython",
    "version": 3
   },
   "file_extension": ".py",
   "mimetype": "text/x-python",
   "name": "python",
   "nbconvert_exporter": "python",
   "pygments_lexer": "ipython3",
   "version": "3.6.3"
  }
 },
 "nbformat": 4,
 "nbformat_minor": 2
}
